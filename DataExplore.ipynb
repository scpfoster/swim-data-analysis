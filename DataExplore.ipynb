{
 "cells": [
  {
   "cell_type": "markdown",
   "metadata": {},
   "source": [
    "After downloading the data for different swim seasons, I want to explore what I can learn from the data"
   ]
  },
  {
   "cell_type": "code",
   "execution_count": 1,
   "metadata": {},
   "outputs": [],
   "source": [
    "import pandas as pd\n",
    "import numpy as np\n",
    "import seaborn as sns\n",
    "import matplotlib.pyplot as plt\n",
    "\n",
    "%matplotlib inline"
   ]
  },
  {
   "cell_type": "code",
   "execution_count": 2,
   "metadata": {},
   "outputs": [],
   "source": [
    "#open files\n",
    "df_rc_17 = pd.read_csv('races_2016_2017.csv')\n",
    "df_rc_18 = pd.read_csv('races_2017_2018.csv')\n",
    "df_rc_19 = pd.read_csv('races_2018_2019.csv')\n",
    "df_rc_20 = pd.read_csv('races_2019_2020.csv')\n",
    "#df_meets = pd.read_csv('meets_2016_2017.csv')\n",
    "#df_clubs = pd.read_csv('clubs_2016_2017.csv')"
   ]
  },
  {
   "cell_type": "markdown",
   "metadata": {},
   "source": [
    "# Gender breakdown\n",
    "\n",
    "Not considering relay results that were not included in the individual times:\n",
    "compare the total number of races year to year\n",
    "compare the number of women/men year to year\n",
    "compare the number of women vs men races in each season"
   ]
  },
  {
   "cell_type": "code",
   "execution_count": 7,
   "metadata": {},
   "outputs": [
    {
     "data": {
      "text/html": [
       "<div>\n",
       "<style scoped>\n",
       "    .dataframe tbody tr th:only-of-type {\n",
       "        vertical-align: middle;\n",
       "    }\n",
       "\n",
       "    .dataframe tbody tr th {\n",
       "        vertical-align: top;\n",
       "    }\n",
       "\n",
       "    .dataframe thead th {\n",
       "        text-align: right;\n",
       "    }\n",
       "</style>\n",
       "<table border=\"1\" class=\"dataframe\">\n",
       "  <thead>\n",
       "    <tr style=\"text-align: right;\">\n",
       "      <th></th>\n",
       "      <th>2016-17</th>\n",
       "      <th>2017-18</th>\n",
       "      <th>2018-19</th>\n",
       "      <th>2019-20</th>\n",
       "    </tr>\n",
       "  </thead>\n",
       "  <tbody>\n",
       "    <tr>\n",
       "      <th>Men</th>\n",
       "      <td>8251</td>\n",
       "      <td>7508</td>\n",
       "      <td>9956</td>\n",
       "      <td>4899</td>\n",
       "    </tr>\n",
       "    <tr>\n",
       "      <th>Women</th>\n",
       "      <td>7915</td>\n",
       "      <td>6942</td>\n",
       "      <td>9100</td>\n",
       "      <td>4403</td>\n",
       "    </tr>\n",
       "    <tr>\n",
       "      <th>Relays</th>\n",
       "      <td>970</td>\n",
       "      <td>734</td>\n",
       "      <td>1044</td>\n",
       "      <td>424</td>\n",
       "    </tr>\n",
       "    <tr>\n",
       "      <th>Resources</th>\n",
       "      <td>96</td>\n",
       "      <td>24</td>\n",
       "      <td>21</td>\n",
       "      <td>50</td>\n",
       "    </tr>\n",
       "  </tbody>\n",
       "</table>\n",
       "</div>"
      ],
      "text/plain": [
       "           2016-17  2017-18  2018-19  2019-20\n",
       "Men           8251     7508     9956     4899\n",
       "Women         7915     6942     9100     4403\n",
       "Relays         970      734     1044      424\n",
       "Resources       96       24       21       50"
      ]
     },
     "execution_count": 7,
     "metadata": {},
     "output_type": "execute_result"
    }
   ],
   "source": [
    "#create a df of swim results that only includes the gender column from each season\n",
    "df_rc = pd.concat([df_rc_17['sw_gender'].value_counts(), df_rc_18['sw_gender'].value_counts(),\n",
    "          df_rc_19['sw_gender'].value_counts(), df_rc_20['sw_gender'].value_counts()], axis=1)\n",
    "df_rc.columns = ['2016-17', '2017-18', '2018-19', '2019-20']\n",
    "df_rc"
   ]
  },
  {
   "cell_type": "code",
   "execution_count": 9,
   "metadata": {},
   "outputs": [
    {
     "data": {
      "text/html": [
       "<div>\n",
       "<style scoped>\n",
       "    .dataframe tbody tr th:only-of-type {\n",
       "        vertical-align: middle;\n",
       "    }\n",
       "\n",
       "    .dataframe tbody tr th {\n",
       "        vertical-align: top;\n",
       "    }\n",
       "\n",
       "    .dataframe thead th {\n",
       "        text-align: right;\n",
       "    }\n",
       "</style>\n",
       "<table border=\"1\" class=\"dataframe\">\n",
       "  <thead>\n",
       "    <tr style=\"text-align: right;\">\n",
       "      <th></th>\n",
       "      <th>2016-17</th>\n",
       "      <th>2017-18</th>\n",
       "      <th>2018-19</th>\n",
       "      <th>2019-20</th>\n",
       "    </tr>\n",
       "  </thead>\n",
       "  <tbody>\n",
       "    <tr>\n",
       "      <th>Men</th>\n",
       "      <td>8251</td>\n",
       "      <td>7508</td>\n",
       "      <td>9956</td>\n",
       "      <td>4899</td>\n",
       "    </tr>\n",
       "    <tr>\n",
       "      <th>Women</th>\n",
       "      <td>7915</td>\n",
       "      <td>6942</td>\n",
       "      <td>9100</td>\n",
       "      <td>4403</td>\n",
       "    </tr>\n",
       "    <tr>\n",
       "      <th>Relays</th>\n",
       "      <td>970</td>\n",
       "      <td>734</td>\n",
       "      <td>1044</td>\n",
       "      <td>424</td>\n",
       "    </tr>\n",
       "  </tbody>\n",
       "</table>\n",
       "</div>"
      ],
      "text/plain": [
       "        2016-17  2017-18  2018-19  2019-20\n",
       "Men        8251     7508     9956     4899\n",
       "Women      7915     6942     9100     4403\n",
       "Relays      970      734     1044      424"
      ]
     },
     "execution_count": 9,
     "metadata": {},
     "output_type": "execute_result"
    }
   ],
   "source": [
    "#drop the Resources\n",
    "df_rc.drop([\"Resources\"], axis=0, inplace=True)\n",
    "df_rc"
   ]
  },
  {
   "cell_type": "code",
   "execution_count": 15,
   "metadata": {},
   "outputs": [
    {
     "data": {
      "text/plain": [
       "<matplotlib.axes._subplots.AxesSubplot at 0x1a2151ccc0>"
      ]
     },
     "execution_count": 15,
     "metadata": {},
     "output_type": "execute_result"
    },
    {
     "data": {
      "image/png": "[encoded data removed]",
      "text/plain": [
       "<Figure size 432x288 with 1 Axes>"
      ]
     },
     "metadata": {
      "needs_background": "light"
     },
     "output_type": "display_data"
    }
   ],
   "source": [
    "df_rc.sum().plot.bar()"
   ]
  },
  {
   "cell_type": "code",
   "execution_count": 18,
   "metadata": {},
   "outputs": [
    {
     "data": {
      "text/plain": [
       "2016-17    8251\n",
       "2017-18    7508\n",
       "2018-19    9956\n",
       "2019-20    4899\n",
       "Name: Men, dtype: int64"
      ]
     },
     "execution_count": 18,
     "metadata": {},
     "output_type": "execute_result"
    }
   ],
   "source": [
    "df_rc.loc['Men']"
   ]
  },
  {
   "cell_type": "code",
   "execution_count": 21,
   "metadata": {},
   "outputs": [
    {
     "data": {
      "text/plain": [
       "Index(['2016-17', '2017-18', '2018-19', '2019-20'], dtype='object')"
      ]
     },
     "execution_count": 21,
     "metadata": {},
     "output_type": "execute_result"
    }
   ],
   "source": [
    "df_rc.columns"
   ]
  },
  {
   "cell_type": "code",
   "execution_count": 46,
   "metadata": {},
   "outputs": [
    {
     "data": {
      "image/png": "[encoded data removed]",
      "text/plain": [
       "<Figure size 720x720 with 1 Axes>"
      ]
     },
     "metadata": {
      "needs_background": "light"
     },
     "output_type": "display_data"
    }
   ],
   "source": [
    "fig, ax= plt.subplots(figsize=[10,10])\n",
    "\n",
    "m_cnt = df_rc.loc['Men']\n",
    "w_cnt = df_rc.loc['Women']\n",
    "r_cnt = df_rc.loc['Relays']\n",
    "labels = df_rc.columns\n",
    "\n",
    "ax.bar(labels, m_cnt, label = 'Men', color = \"mediumblue\", edgecolor = \"black\")\n",
    "ax.bar(labels, w_cnt, label = 'Women', bottom=m_cnt, color = \"orchid\", edgecolor = \"black\")\n",
    "ax.bar(labels, r_cnt, label = 'Relays', bottom=(w_cnt+m_cnt), color = \"lightgreen\", edgecolor = \"black\")\n",
    "\n",
    "plt.ylabel('Number of race resuts')\n",
    "plt.title(\"Number of Master Swim Races by Season\")\n",
    "plt.legend()\n",
    "\n",
    "fig.savefig(\"2016_2020_RaceTotals.png\")"
   ]
  },
  {
   "cell_type": "code",
   "execution_count": 50,
   "metadata": {},
   "outputs": [
    {
     "data": {
      "text/html": [
       "<div>\n",
       "<style scoped>\n",
       "    .dataframe tbody tr th:only-of-type {\n",
       "        vertical-align: middle;\n",
       "    }\n",
       "\n",
       "    .dataframe tbody tr th {\n",
       "        vertical-align: top;\n",
       "    }\n",
       "\n",
       "    .dataframe thead th {\n",
       "        text-align: right;\n",
       "    }\n",
       "</style>\n",
       "<table border=\"1\" class=\"dataframe\">\n",
       "  <thead>\n",
       "    <tr style=\"text-align: right;\">\n",
       "      <th></th>\n",
       "      <th>2016-17</th>\n",
       "      <th>2017-18</th>\n",
       "      <th>2018-19</th>\n",
       "      <th>2019-20</th>\n",
       "    </tr>\n",
       "  </thead>\n",
       "  <tbody>\n",
       "    <tr>\n",
       "      <th>Men</th>\n",
       "      <td>8251</td>\n",
       "      <td>7508</td>\n",
       "      <td>9956</td>\n",
       "      <td>4899</td>\n",
       "    </tr>\n",
       "    <tr>\n",
       "      <th>Women</th>\n",
       "      <td>7915</td>\n",
       "      <td>6942</td>\n",
       "      <td>9100</td>\n",
       "      <td>4403</td>\n",
       "    </tr>\n",
       "    <tr>\n",
       "      <th>Relays</th>\n",
       "      <td>970</td>\n",
       "      <td>734</td>\n",
       "      <td>1044</td>\n",
       "      <td>424</td>\n",
       "    </tr>\n",
       "  </tbody>\n",
       "</table>\n",
       "</div>"
      ],
      "text/plain": [
       "        2016-17  2017-18  2018-19  2019-20\n",
       "Men        8251     7508     9956     4899\n",
       "Women      7915     6942     9100     4403\n",
       "Relays      970      734     1044      424"
      ]
     },
     "execution_count": 50,
     "metadata": {},
     "output_type": "execute_result"
    }
   ],
   "source": [
    "df_rc"
   ]
  },
  {
   "cell_type": "code",
   "execution_count": 53,
   "metadata": {},
   "outputs": [
    {
     "data": {
      "text/plain": [
       "2016-17    17136\n",
       "2017-18    15184\n",
       "2018-19    20100\n",
       "2019-20     9726\n",
       "dtype: int64"
      ]
     },
     "execution_count": 53,
     "metadata": {},
     "output_type": "execute_result"
    }
   ],
   "source": [
    "df_rc.sum()"
   ]
  },
  {
   "cell_type": "code",
   "execution_count": 56,
   "metadata": {},
   "outputs": [
    {
     "data": {
      "text/plain": [
       "Men          4899\n",
       "Women        4403\n",
       "Relays        424\n",
       "Resources      50\n",
       "Name: sw_gender, dtype: int64"
      ]
     },
     "execution_count": 56,
     "metadata": {},
     "output_type": "execute_result"
    }
   ],
   "source": [
    "df_rc['sw_gender'].value_counts()"
   ]
  },
  {
   "cell_type": "code",
   "execution_count": 57,
   "metadata": {},
   "outputs": [
    {
     "data": {
      "text/plain": [
       "Men      4899\n",
       "Women    4403\n",
       "Name: sw_gender, dtype: int64"
      ]
     },
     "execution_count": 57,
     "metadata": {},
     "output_type": "execute_result"
    }
   ],
   "source": [
    "genders = [\"Wommen\", \"Men\"]\n",
    "df_gen = df_rc[(df_rc.sw_gender == \"Women\") | (df_rc.sw_gender == \"Men\")]\n",
    "df_gen['sw_gender'].value_counts()"
   ]
  },
  {
   "cell_type": "code",
   "execution_count": 21,
   "metadata": {},
   "outputs": [
    {
     "data": {
      "text/plain": [
       "<matplotlib.axes._subplots.AxesSubplot at 0x1a1947b8d0>"
      ]
     },
     "execution_count": 21,
     "metadata": {},
     "output_type": "execute_result"
    },
    {
     "data": {
      "image/png": "[encoded data removed]",
      "text/plain": [
       "<Figure size 432x432 with 1 Axes>"
      ]
     },
     "metadata": {},
     "output_type": "display_data"
    }
   ],
   "source": [
    "df_gen['sw_gender'].value_counts().plot.pie(figsize=(6,6), labels=[\"Total Men's Races\", \"Total Women's Races\"],\n",
    "                                           title=\"2016-2017 total races split by gender\", startangle=90)"
   ]
  },
  {
   "cell_type": "code",
   "execution_count": 58,
   "metadata": {},
   "outputs": [
    {
     "data": {
      "image/png": "[encoded data removed]",
      "text/plain": [
       "<Figure size 576x576 with 1 Axes>"
      ]
     },
     "metadata": {},
     "output_type": "display_data"
    }
   ],
   "source": [
    "#reference: https://www.dataforeverybody.com/matplotlib-seaborn-pie-charts/\n",
    "#reference: https://stackoverflow.com/questions/6170246/how-do-i-use-matplotlib-autopct\n",
    "\n",
    "pie, ax = plt.subplots(figsize=[8,8])\n",
    "labels = [\"Men's Races\", \"Women's Races\"]\n",
    "data = df_gen['sw_gender'].value_counts()\n",
    "plt.pie(x=data, autopct=\"%.1f%%\", labels=labels, pctdistance=0.5, startangle = 90)\n",
    "plt.title(label=\"2019-2020 Total Individual Races\", fontsize=20)\n",
    "\n",
    "textstr = '\\n'.join((\n",
    "    r'Total Races 9 302',\n",
    "    r'Womens Races 4 403',\n",
    "    r'Mens Races 4 899'))\n",
    "\n",
    "ax.text(0.60, 0.85, textstr, fontsize=14)\n",
    "pie.savefig(\"2019_2020_RaceByGender.png\")"
   ]
  },
  {
   "cell_type": "code",
   "execution_count": 8,
   "metadata": {},
   "outputs": [
    {
     "data": {
      "text/plain": [
       "30"
      ]
     },
     "execution_count": 8,
     "metadata": {},
     "output_type": "execute_result"
    }
   ],
   "source": [
    "len(df_rc_17['meet_id_2'].unique())"
   ]
  },
  {
   "cell_type": "code",
   "execution_count": 9,
   "metadata": {},
   "outputs": [
    {
     "data": {
      "text/plain": [
       "1724"
      ]
     },
     "execution_count": 9,
     "metadata": {},
     "output_type": "execute_result"
    }
   ],
   "source": [
    "len(df_rc_17['sw_id'].unique())"
   ]
  },
  {
   "cell_type": "code",
   "execution_count": 13,
   "metadata": {},
   "outputs": [
    {
     "data": {
      "text/plain": [
       "count    16166.000000\n",
       "mean      1971.364840\n",
       "std         14.819128\n",
       "min       1924.000000\n",
       "25%       1961.000000\n",
       "50%       1972.000000\n",
       "75%       1983.000000\n",
       "max       1999.000000\n",
       "Name: sw_yob, dtype: float64"
      ]
     },
     "execution_count": 13,
     "metadata": {},
     "output_type": "execute_result"
    }
   ],
   "source": [
    "df_rc_17['sw_yob'].describe()"
   ]
  },
  {
   "cell_type": "code",
   "execution_count": 14,
   "metadata": {},
   "outputs": [
    {
     "data": {
      "text/plain": [
       "Men          8251\n",
       "Women        7915\n",
       "Relays        970\n",
       "Resources      96\n",
       "Name: sw_gender, dtype: int64"
      ]
     },
     "execution_count": 14,
     "metadata": {},
     "output_type": "execute_result"
    }
   ],
   "source": [
    "df_rc_17['sw_gender'].value_counts()"
   ]
  },
  {
   "cell_type": "code",
   "execution_count": 16,
   "metadata": {},
   "outputs": [
    {
     "data": {
      "text/plain": [
       "602278    73\n",
       "601606    23\n",
       "Name: meet_id_2, dtype: int64"
      ]
     },
     "execution_count": 16,
     "metadata": {},
     "output_type": "execute_result"
    }
   ],
   "source": [
    "df_rc_17[df_rc_17.sw_gender == \"Resources\"][\"meet_id_2\"].value_counts()"
   ]
  },
  {
   "cell_type": "code",
   "execution_count": 17,
   "metadata": {},
   "outputs": [
    {
     "data": {
      "text/html": [
       "<div>\n",
       "<style scoped>\n",
       "    .dataframe tbody tr th:only-of-type {\n",
       "        vertical-align: middle;\n",
       "    }\n",
       "\n",
       "    .dataframe tbody tr th {\n",
       "        vertical-align: top;\n",
       "    }\n",
       "\n",
       "    .dataframe thead th {\n",
       "        text-align: right;\n",
       "    }\n",
       "</style>\n",
       "<table border=\"1\" class=\"dataframe\">\n",
       "  <thead>\n",
       "    <tr style=\"text-align: right;\">\n",
       "      <th></th>\n",
       "      <th>meet_id_2</th>\n",
       "      <th>rc_course</th>\n",
       "      <th>rc_dist_stroke</th>\n",
       "      <th>rc_round</th>\n",
       "      <th>rc_time</th>\n",
       "      <th>sw_gender</th>\n",
       "      <th>sw_id</th>\n",
       "      <th>sw_yob</th>\n",
       "    </tr>\n",
       "  </thead>\n",
       "  <tbody>\n",
       "    <tr>\n",
       "      <th>10512</th>\n",
       "      <td>601606</td>\n",
       "      <td>NaN</td>\n",
       "      <td>NaN</td>\n",
       "      <td>Meet package</td>\n",
       "      <td>&lt;span class=\"truncate\"&gt;&lt;a href=\"https://regist...</td>\n",
       "      <td>Resources</td>\n",
       "      <td>NaN</td>\n",
       "      <td>NaN</td>\n",
       "    </tr>\n",
       "    <tr>\n",
       "      <th>10693</th>\n",
       "      <td>601606</td>\n",
       "      <td>NaN</td>\n",
       "      <td>NaN</td>\n",
       "      <td>Meet package</td>\n",
       "      <td>&lt;span class=\"truncate\"&gt;&lt;a href=\"https://regist...</td>\n",
       "      <td>Resources</td>\n",
       "      <td>NaN</td>\n",
       "      <td>NaN</td>\n",
       "    </tr>\n",
       "    <tr>\n",
       "      <th>10923</th>\n",
       "      <td>601606</td>\n",
       "      <td>NaN</td>\n",
       "      <td>NaN</td>\n",
       "      <td>Meet package</td>\n",
       "      <td>&lt;span class=\"truncate\"&gt;&lt;a href=\"https://regist...</td>\n",
       "      <td>Resources</td>\n",
       "      <td>NaN</td>\n",
       "      <td>NaN</td>\n",
       "    </tr>\n",
       "    <tr>\n",
       "      <th>11045</th>\n",
       "      <td>601606</td>\n",
       "      <td>NaN</td>\n",
       "      <td>NaN</td>\n",
       "      <td>Meet package</td>\n",
       "      <td>&lt;span class=\"truncate\"&gt;&lt;a href=\"https://regist...</td>\n",
       "      <td>Resources</td>\n",
       "      <td>NaN</td>\n",
       "      <td>NaN</td>\n",
       "    </tr>\n",
       "    <tr>\n",
       "      <th>11074</th>\n",
       "      <td>601606</td>\n",
       "      <td>NaN</td>\n",
       "      <td>NaN</td>\n",
       "      <td>Meet package</td>\n",
       "      <td>&lt;span class=\"truncate\"&gt;&lt;a href=\"https://regist...</td>\n",
       "      <td>Resources</td>\n",
       "      <td>NaN</td>\n",
       "      <td>NaN</td>\n",
       "    </tr>\n",
       "  </tbody>\n",
       "</table>\n",
       "</div>"
      ],
      "text/plain": [
       "       meet_id_2 rc_course rc_dist_stroke      rc_round  \\\n",
       "10512     601606       NaN            NaN  Meet package   \n",
       "10693     601606       NaN            NaN  Meet package   \n",
       "10923     601606       NaN            NaN  Meet package   \n",
       "11045     601606       NaN            NaN  Meet package   \n",
       "11074     601606       NaN            NaN  Meet package   \n",
       "\n",
       "                                                 rc_time  sw_gender  sw_id  \\\n",
       "10512  <span class=\"truncate\"><a href=\"https://regist...  Resources    NaN   \n",
       "10693  <span class=\"truncate\"><a href=\"https://regist...  Resources    NaN   \n",
       "10923  <span class=\"truncate\"><a href=\"https://regist...  Resources    NaN   \n",
       "11045  <span class=\"truncate\"><a href=\"https://regist...  Resources    NaN   \n",
       "11074  <span class=\"truncate\"><a href=\"https://regist...  Resources    NaN   \n",
       "\n",
       "       sw_yob  \n",
       "10512     NaN  \n",
       "10693     NaN  \n",
       "10923     NaN  \n",
       "11045     NaN  \n",
       "11074     NaN  "
      ]
     },
     "execution_count": 17,
     "metadata": {},
     "output_type": "execute_result"
    }
   ],
   "source": [
    "df_rc_17[df_rc_17.sw_gender == \"Resources\"].head()"
   ]
  },
  {
   "cell_type": "code",
   "execution_count": 6,
   "metadata": {},
   "outputs": [],
   "source": [
    "temp_df_rc_17 = df_rc_17[df_rc_17.sw_gender != \"Resources\"]"
   ]
  },
  {
   "cell_type": "code",
   "execution_count": 7,
   "metadata": {},
   "outputs": [
    {
     "data": {
      "text/plain": [
       "Men       8251\n",
       "Women     7915\n",
       "Relays     970\n",
       "Name: sw_gender, dtype: int64"
      ]
     },
     "execution_count": 7,
     "metadata": {},
     "output_type": "execute_result"
    }
   ],
   "source": [
    "temp_df_rc_17['sw_gender'].value_counts()"
   ]
  },
  {
   "cell_type": "code",
   "execution_count": 10,
   "metadata": {},
   "outputs": [
    {
     "data": {
      "text/plain": [
       "50m Freestyle             2029\n",
       "100m Freestyle            1553\n",
       "50m Butterfly             1154\n",
       "200m Freestyle            1138\n",
       "50m Breaststroke          1071\n",
       "100m Medley               1067\n",
       "400m Freestyle            1034\n",
       "50m Backstroke             972\n",
       "100m Breaststroke          784\n",
       "50m Freestyle Laps         731\n",
       "100m Backstroke            684\n",
       "200m Medley                601\n",
       "800m Freestyle             532\n",
       "100m Butterfly             469\n",
       "200m Breaststroke          399\n",
       "200m Backstroke            391\n",
       "1500m Freestyle            242\n",
       "400m Medley                241\n",
       "200m Butterfly             211\n",
       "25m Freestyle              211\n",
       "50m Breaststroke Laps      150\n",
       "50m Butterfly Laps         147\n",
       "100m Freestyle Laps        140\n",
       "25m Butterfly               55\n",
       "100m Breaststroke Laps      39\n",
       "100m Butterfly Laps         38\n",
       "25m Breaststroke            36\n",
       "25m Backstroke              32\n",
       "Name: rc_dist_stroke, dtype: int64"
      ]
     },
     "execution_count": 10,
     "metadata": {},
     "output_type": "execute_result"
    }
   ],
   "source": [
    "temp_df_rc_17[temp_df_rc_17.sw_gender != 'Relays']['rc_dist_stroke'].value_counts()"
   ]
  },
  {
   "cell_type": "code",
   "execution_count": 15,
   "metadata": {},
   "outputs": [],
   "source": [
    "x = temp_df_rc_17[temp_df_rc_17.sw_gender != 'Relays']['rc_dist_stroke'].value_counts()"
   ]
  },
  {
   "cell_type": "code",
   "execution_count": 21,
   "metadata": {},
   "outputs": [
    {
     "data": {
      "image/png": "[encoded data removed]",
      "text/plain": [
       "<Figure size 432x288 with 1 Axes>"
      ]
     },
     "metadata": {
      "needs_background": "light"
     },
     "output_type": "display_data"
    }
   ],
   "source": [
    "x.head(10).plot(kind='barh').invert_yaxis()"
   ]
  }
 ],
 "metadata": {
  "kernelspec": {
   "display_name": "Python 3",
   "language": "python",
   "name": "python3"
  },
  "language_info": {
   "codemirror_mode": {
    "name": "ipython",
    "version": 3
   },
   "file_extension": ".py",
   "mimetype": "text/x-python",
   "name": "python",
   "nbconvert_exporter": "python",
   "pygments_lexer": "ipython3",
   "version": "3.6.9"
  }
 },
 "nbformat": 4,
 "nbformat_minor": 4
}
