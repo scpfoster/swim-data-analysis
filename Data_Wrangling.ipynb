{
 "cells": [
  {
   "cell_type": "markdown",
   "metadata": {},
   "source": [
    "# About this Notebook\n",
    "\n",
    "Data Wrangling can be defined as the process to:\n",
    "* gather\n",
    "* assess\n",
    "* clean\n",
    "data in support of data analytics tasks.\n",
    "\n",
    "This notebook contains the code to extract data related to Master Swim Performances and save it in a local format that supports Data Exploration activities.\n",
    "\n",
    "## Supported Data Sources\n",
    "\n",
    "Currently data is only extracted from the Canadian swimming site that collects the results for Masters Swimmers."
   ]
  },
  {
   "cell_type": "code",
   "execution_count": 1,
   "metadata": {},
   "outputs": [],
   "source": [
    "import requests\n",
    "import lxml.html as lh\n",
    "from bs4 import BeautifulSoup\n",
    "import numpy as np\n",
    "import pandas as pd"
   ]
  },
  {
   "cell_type": "markdown",
   "metadata": {},
   "source": [
    "# Canadian Master Swimming Results Collection \n",
    "\n",
    "Starting with the information I know how to access from personal experience."
   ]
  },
  {
   "cell_type": "markdown",
   "metadata": {},
   "source": [
    "## Gather - www.swimming.ca\n",
    "The following code will scrape the available data from the www.swimming.ca website for Masters Swimmers. The code is based on the website structure that exists during the time period Aug - Oct 2020.\n",
    "\n",
    "The website has a layered approach to finding results.\n",
    "1. Navigate to the page that has a list of meet-results\n",
    "2. Filter the list of meet results by **Season**, **Province**, **Month**\n",
    "3. Select the meet of interest in the filtered list\n",
    "4. At this point it is possible to see all the results for each club that participated, or the results by event.  I will be collecting all the results by participating club.\n",
    "\n",
    "I did contact Swim Canada to see if there was an API that would allow me to use an approach other than web scraping to get the results, but so far they have not been able to support my request.\n",
    "\n",
    "For the parameters **Seasion**, **Province** and **Month**, there are few points to note:\n",
    "* Season - the swim season in Canada is split over 2 calendar years and runs Sep to Aug.  So the swim season 2019/2020 will be the period 1 Sep 2019 to 31 Aug 2020.  The value passed to the **Season** parameter is the last 2 numbers in the second part of the season identifier.  So to access swim meets from Nov 2019, the season parameter will be 20 ('season'='20')\n",
    "* Month - the month must be specified as a number from 1 to 12.  It is not possible to have all the months in a single season being available at one time\n",
    "* Province - It is possible to filter by province/territory or use all provinces. To access an individual province/territory, the provinces/territories are numbered from 1 to 11 in alphabetical order.  So to get only Alberta, 'province'='1' and to get Yukon, 'province'='11'.  The supported Territories are Northwest Territories and Yukon.  For all provinces, no number is provided to province (province = '')\n",
    "\n",
    "Since I am only interested in Masters results, when looking at the meet list, I will look for MEET TYPE  of Masters.  This will miss some swimmers that compete in non-Masters meets as an Open Master.  I plan to come back and find these results after collecting the Masters Meets\n",
    "\n",
    "The only URL specified in my code is the URL associated with step 1 above, navigating to the meet-results page.  The subsequent URLs will be recovered from the information available when the various filters are applied."
   ]
  },
  {
   "cell_type": "code",
   "execution_count": 2,
   "metadata": {},
   "outputs": [],
   "source": [
    "# URLs of interest\n",
    "url_meetlist ='https://www.swimming.ca/en/events-results/meet-results/'"
   ]
  },
  {
   "cell_type": "markdown",
   "metadata": {},
   "source": [
    "### Explore Structure of html pages\n",
    "In order to recover the information of interest, the way the information is presented on the various html pages needs to be understood.\n",
    "\n",
    "Once I know how to capture the data of interest, I will create functions to iterate through diffferent seasons, months and meets.\n",
    "\n",
    "The information I am interested in can be grouped into 3 categories.\n",
    "\n",
    "**Swimmer Information**\n",
    "* sw_id_num - unique swimmer id number\n",
    "* sw_name - swimmers name\n",
    "* sw_yob - swimmers year of birth\n",
    "\n",
    "Note that swimmers age is determined by the age on Dec 31st of the year in which the competition happened.\n",
    "\n",
    "**Meet Information**\n",
    "\n",
    "* mt_id_num - unique meet id number\n",
    "* mt_name - meet name\n",
    "* mt_date - first day of meet\n",
    "* mt_duration - number of days the swim meet lasted\n",
    "* mt_pool_name - name of the pool\n",
    "* mt_pool_address - address of the pool\n",
    "* mt_sc_lc - indication if meet was a long course or short course meet\n",
    "\n",
    "**Race Information**\n",
    "* rc_dist - distance of race - eg 25m, 100m, 400m\n",
    "* rc_stroke - stroke of race - freestyle, backstroke, butterfly, breaststroke, IM\n",
    "* rc_time - time it took the swimmer to complete the distance\n",
    "* rc_round - heat, final, split of longer swim or part of relay\n",
    "* sw_id_num - unique swimmer id\n",
    "* mt_id_num - unique meet id\n",
    "\n",
    "I am also confident that at some point I will want club information, but at this point I'm not sure what I would do with it.\n",
    "\n",
    "I also have not decided the best way to store the information I scrape.  Initially, I will put it in 3 different csv's, but would like to explore a graph database.  I have not used them before and would like to learn."
   ]
  },
  {
   "cell_type": "code",
   "execution_count": 3,
   "metadata": {},
   "outputs": [
    {
     "data": {
      "text/plain": [
       "'https://www.swimming.ca/en/events-results/meet-results/?season=20&province=&month=11'"
      ]
     },
     "execution_count": 3,
     "metadata": {},
     "output_type": "execute_result"
    }
   ],
   "source": [
    "# start with the 2019/2020 season, noting that the season came to an abrupt end in March 2020 because of Covid19\n",
    "# using November since I know there is a masters meet in Nov 2019\n",
    "response=requests.get('https://www.swimming.ca/en/events-results/meet-results/', params={'season':'20', 'province':'', 'month':'11'})\n",
    "#sanity check that my parameter specification worked as expected\n",
    "response.url"
   ]
  },
  {
   "cell_type": "code",
   "execution_count": 4,
   "metadata": {},
   "outputs": [],
   "source": [
    "#use Beautiful Soup to parse the returned page\n",
    "meetList_resp = BeautifulSoup(response.text, 'lxml')"
   ]
  },
  {
   "cell_type": "code",
   "execution_count": 5,
   "metadata": {},
   "outputs": [
    {
     "name": "stdout",
     "output_type": "stream",
     "text": [
      "number of masters meets 8\n"
     ]
    }
   ],
   "source": [
    "#find the masters swim meets in the response text\n",
    "meetList = []\n",
    "for item in meetList_resp.find_all('tr'):\n",
    "    if item.contents[5].contents[0] == \"Masters\":\n",
    "        temp_dict = {}\n",
    "        temp_dict['meet_date'] = item.contents[0].contents[0].contents[0]\n",
    "        temp_dict['meet_url'] = item.contents[1].a.attrs['href']\n",
    "        temp_dict['meet_prov'] = item.contents[2].contents[0]\n",
    "        temp_dict['meet_host'] = item.contents[3].contents[0].contents[0]\n",
    "        temp_dict['meet_course'] = item.contents[4].contents[0]\n",
    "        temp_dict['meet_type'] = item.contents[5].contents[0]\n",
    "        meetList.append(temp_dict)\n",
    "        ##used for debug/development\n",
    "        #print(item.contents[0].contents[0].contents[0])\n",
    "        #print(item.contents[1].a.attrs['href'])\n",
    "        #print(item.contents[2].contents[0])\n",
    "        #print(item.contents[3].contents[0].contents[0])\n",
    "        #print(item.contents[4].contents[0])\n",
    "        #print(item.contents[5].contents[0])\n",
    "print(\"number of masters meets\", len(meetList))"
   ]
  },
  {
   "cell_type": "markdown",
   "metadata": {},
   "source": [
    "So 8 masters meets were held in Canada in Nov 2019.\n",
    "\n",
    "Now use the meet_url to get the results for that meet.  The use Beautiful Soup to parse the returned page"
   ]
  },
  {
   "cell_type": "code",
   "execution_count": 6,
   "metadata": {},
   "outputs": [],
   "source": [
    "r2_url = meetList[0]['meet_url']\n",
    "r2 = requests.get(r2_url)\n",
    "temp_r2 = BeautifulSoup(r2.text, 'lxml')"
   ]
  },
  {
   "cell_type": "markdown",
   "metadata": {},
   "source": [
    "My next step was to create a list of clubs that participated. I looked through the html on the page and determined the information I was interested in was held in 'option' tags."
   ]
  },
  {
   "cell_type": "code",
   "execution_count": 23,
   "metadata": {},
   "outputs": [
    {
     "name": "stdout",
     "output_type": "stream",
     "text": [
      "number of clubs in the meet 11\n",
      "information about each club\n"
     ]
    },
    {
     "data": {
      "text/plain": [
       "{'club_res_url': 'https://www.swimming.ca/en/meet/619320/?faction=73928',\n",
       " 'club_number': '73928',\n",
       " 'club_name': 'Edmonton Masters Swim Club'}"
      ]
     },
     "execution_count": 23,
     "metadata": {},
     "output_type": "execute_result"
    }
   ],
   "source": [
    "clubList = []\n",
    "for item in temp_r2.find_all('option'):\n",
    "    #print(item.contents[0])\n",
    "    temp_dict = {}\n",
    "    if \"Events\" in item.contents[0]:\n",
    "        #print(item)\n",
    "        break\n",
    "    elif \"Participants\" not in item.contents[0]:\n",
    "        temp_dict['club_res_url'] = item.attrs['data-href']\n",
    "        temp_dict['club_number'] = item.attrs['value']\n",
    "        temp_dict['club_name'] = item.contents[0]\n",
    "        clubList.append(temp_dict)\n",
    "        ## used for dev/debug\n",
    "        #print(item.attrs['data-href'])\n",
    "        #print(item.attrs['value'])\n",
    "        #print(item.contents[0])\n",
    "        \n",
    "print(\"number of clubs in the meet\", len(clubList))\n",
    "print(\"information about each club\") \n",
    "clubList[0] "
   ]
  },
  {
   "cell_type": "markdown",
   "metadata": {},
   "source": [
    "The next step is to get the club results and retrieve the information about each swimmer"
   ]
  },
  {
   "cell_type": "code",
   "execution_count": 8,
   "metadata": {},
   "outputs": [],
   "source": [
    "r3_url = clubList[0]['club_res_url']\n",
    "r3 = requests.get(r3_url)\n",
    "temp_r3 = BeautifulSoup(r3.text, 'lxml')"
   ]
  },
  {
   "cell_type": "markdown",
   "metadata": {},
   "source": [
    "After examining the HTML for the per club results page, the results of interest seem to be in the first 4 tables:\n",
    "* table 0 - men's results\n",
    "* table 1 - women's results\n",
    "* table 2 - relay results\n",
    "* table 3 - meet resource info"
   ]
  },
  {
   "cell_type": "code",
   "execution_count": 9,
   "metadata": {},
   "outputs": [
    {
     "data": {
      "text/plain": [
       "5"
      ]
     },
     "execution_count": 9,
     "metadata": {},
     "output_type": "execute_result"
    }
   ],
   "source": [
    "temp_table = temp_r3.find_all(\"table\")\n",
    "len(temp_table)"
   ]
  },
  {
   "cell_type": "code",
   "execution_count": 72,
   "metadata": {},
   "outputs": [
    {
     "name": "stdout",
     "output_type": "stream",
     "text": [
      "row count 0\n",
      "new swimmer!!\n",
      "new swimmer!!\n",
      "new swimmer!!\n",
      "new swimmer!!\n",
      "new swimmer!!\n",
      "new swimmer!!\n",
      "new swimmer!!\n",
      "new swimmer!!\n"
     ]
    }
   ],
   "source": [
    "#look at the results for the men's table\n",
    "count = 0\n",
    "swimmer_list = []\n",
    "race_list = []\n",
    "for item in temp_table[0].find_all('tr'):\n",
    "    temp_sw_dict = {}\n",
    "    temp_rc_dict = {}\n",
    "    if item.has_attr('class'):\n",
    "        print(\"new swimmer!!\")\n",
    "        #print(\"row count\", count, \"length of info\", len(item), \"contents\", item)\n",
    "        #print(\"swimmer url\", item.find('a').attrs['href'])\n",
    "        #print(\"swimmer id\", item.find('a').attrs['href'].split('/')[5])\n",
    "        #print(\"swimmer name\", item.find('a').contents[0])\n",
    "        #print(\"swimmer YOB\", item.find('th').contents[1][3:7])\n",
    "        # need swim id for both the swimmer and the race dictionary\n",
    "        sw_id = item.find('a').attrs['href'].split('/')[5]\n",
    "        sw_yob = item.find('th').contents[1][3:7]\n",
    "        temp_sw_dict['sw_url'] = item.find('a').attrs['href']\n",
    "        temp_sw_dict['sw_id'] = sw_id\n",
    "        temp_sw_dict['sw_name'] = item.find('a').contents[0]\n",
    "        temp_sw_dict['sw_yob'] = sw_yob\n",
    "        swimmer_list.append(temp_sw_dict)\n",
    "    #print(count)\n",
    "    #if item.children[0].has_attr('class'):\n",
    "    #    print(\"race time and dist available\")\n",
    "    #    print(item.children[0])\n",
    "    elif count != 0:\n",
    "        #print(\"row count\", count, len(item.contents))\n",
    "        #for subItem in item:\n",
    "        #    print(len(subItem), subItem.string)\n",
    "        #print(\"gender\", item.contents[0].find('a').attrs['data-query-gender'])\n",
    "        #print(\"race distance and stroke\", item.contents[0])\n",
    "        #print(\"race distance and stroke\", item.contents[0].find('span').find('a').contents[0])\n",
    "        #print(\"race round\", item.contents[1].contents[0])\n",
    "        #print(\"race time\", item.contents[3].contents[0])\n",
    "        #get the gender for both swim and race dict\n",
    "        sw_gender = item.contents[0].find('a').attrs['data-query-gender']\n",
    "        temp_rc_dict['sw_id'] = sw_id\n",
    "        temp_rc_dict['sw_yob'] = sw_yob\n",
    "        temp_rc_dict['sw_gender'] = sw_gender\n",
    "        #temp_sw_dict['sw_gender'] = sw_gender\n",
    "        temp_rc_dict['rc_dist_stroke'] = item.contents[0].find('span').find('a').contents[0]\n",
    "        temp_rc_dict['rc_round'] = item.contents[1].contents[0]\n",
    "        temp_rc_dict['rc_time'] = item.contents[3].contents[0]\n",
    "        race_list.append(temp_rc_dict)\n",
    "    else:\n",
    "        print(\"row count\", count)\n",
    "    \n",
    "    #append the temp dict to the lists\n",
    "    #swimmer_list.append(temp_sw_dict)\n",
    "    #race_list.append(temp_rc_dict)\n",
    "    count += 1\n",
    "    # just print out some to see the pattern\n",
    "    #if count == 11:\n",
    "    #    break"
   ]
  },
  {
   "cell_type": "code",
   "execution_count": 73,
   "metadata": {},
   "outputs": [
    {
     "data": {
      "text/plain": [
       "[{'sw_url': 'https://www.swimming.ca/en/swimmer/4764413/',\n",
       "  'sw_id': '4764413',\n",
       "  'sw_name': 'Dal Bello, George',\n",
       "  'sw_yob': '1990'},\n",
       " {'sw_url': 'https://www.swimming.ca/en/swimmer/5396447/',\n",
       "  'sw_id': '5396447',\n",
       "  'sw_name': 'Edelenbosch, Florian',\n",
       "  'sw_yob': '1992'},\n",
       " {'sw_url': 'https://www.swimming.ca/en/swimmer/4040463/',\n",
       "  'sw_id': '4040463',\n",
       "  'sw_name': 'Gordon, Graeme',\n",
       "  'sw_yob': '1979'},\n",
       " {'sw_url': 'https://www.swimming.ca/en/swimmer/4456009/',\n",
       "  'sw_id': '4456009',\n",
       "  'sw_name': 'Lewis, Barry',\n",
       "  'sw_yob': '1962'},\n",
       " {'sw_url': 'https://www.swimming.ca/en/swimmer/4568512/',\n",
       "  'sw_id': '4568512',\n",
       "  'sw_name': 'Morrison, Zachary',\n",
       "  'sw_yob': '1995'},\n",
       " {'sw_url': 'https://www.swimming.ca/en/swimmer/4469236/',\n",
       "  'sw_id': '4469236',\n",
       "  'sw_name': 'Parrish, Adam',\n",
       "  'sw_yob': '1962'},\n",
       " {'sw_url': 'https://www.swimming.ca/en/swimmer/4941482/',\n",
       "  'sw_id': '4941482',\n",
       "  'sw_name': 'Smits, Nolan',\n",
       "  'sw_yob': '1985'},\n",
       " {'sw_url': 'https://www.swimming.ca/en/swimmer/4568665/',\n",
       "  'sw_id': '4568665',\n",
       "  'sw_name': 'Stonelake, David',\n",
       "  'sw_yob': '1957'}]"
      ]
     },
     "execution_count": 73,
     "metadata": {},
     "output_type": "execute_result"
    }
   ],
   "source": [
    "swimmer_list"
   ]
  },
  {
   "cell_type": "code",
   "execution_count": 74,
   "metadata": {},
   "outputs": [
    {
     "data": {
      "text/plain": [
       "[{'sw_id': '4764413',\n",
       "  'sw_yob': '1990',\n",
       "  'sw_gender': 'M',\n",
       "  'rc_dist_stroke': '25m Freestyle',\n",
       "  'rc_round': 'Final',\n",
       "  'rc_time': '12.78'},\n",
       " {'sw_id': '4764413',\n",
       "  'sw_yob': '1990',\n",
       "  'sw_gender': 'M',\n",
       "  'rc_dist_stroke': '50m Freestyle',\n",
       "  'rc_round': 'Final',\n",
       "  'rc_time': '26.97'},\n",
       " {'sw_id': '4764413',\n",
       "  'sw_yob': '1990',\n",
       "  'sw_gender': 'M',\n",
       "  'rc_dist_stroke': '100m Freestyle',\n",
       "  'rc_round': 'Final',\n",
       "  'rc_time': '1:03.05'},\n",
       " {'sw_id': '4764413',\n",
       "  'sw_yob': '1990',\n",
       "  'sw_gender': 'M',\n",
       "  'rc_dist_stroke': '50m Butterfly',\n",
       "  'rc_round': 'Final',\n",
       "  'rc_time': '30.30'},\n",
       " {'sw_id': '4764413',\n",
       "  'sw_yob': '1990',\n",
       "  'sw_gender': 'M',\n",
       "  'rc_dist_stroke': '50m Freestyle Laps',\n",
       "  'rc_round': '4 × 50m Medley, Final',\n",
       "  'rc_time': '27.75'},\n",
       " {'sw_id': '4764413',\n",
       "  'sw_yob': '1990',\n",
       "  'sw_gender': 'M',\n",
       "  'rc_dist_stroke': '50m Freestyle Laps',\n",
       "  'rc_round': '4 × 50m Freestyle, Final',\n",
       "  'rc_time': '27.75'},\n",
       " {'sw_id': '4764413',\n",
       "  'sw_yob': '1990',\n",
       "  'sw_gender': 'X',\n",
       "  'rc_dist_stroke': '50m Freestyle Laps',\n",
       "  'rc_round': '4 × 50m Freestyle, Final',\n",
       "  'rc_time': '28.09'},\n",
       " {'sw_id': '5396447',\n",
       "  'sw_yob': '1992',\n",
       "  'sw_gender': 'M',\n",
       "  'rc_dist_stroke': '50m Freestyle',\n",
       "  'rc_round': 'Final',\n",
       "  'rc_time': '28.90'},\n",
       " {'sw_id': '5396447',\n",
       "  'sw_yob': '1992',\n",
       "  'sw_gender': 'M',\n",
       "  'rc_dist_stroke': '50m Freestyle',\n",
       "  'rc_round': '4 × 50m Freestyle, Final',\n",
       "  'rc_time': '29.55'},\n",
       " {'sw_id': '5396447',\n",
       "  'sw_yob': '1992',\n",
       "  'sw_gender': 'M',\n",
       "  'rc_dist_stroke': '25m Backstroke',\n",
       "  'rc_round': 'Final',\n",
       "  'rc_time': '14.86'},\n",
       " {'sw_id': '5396447',\n",
       "  'sw_yob': '1992',\n",
       "  'sw_gender': 'M',\n",
       "  'rc_dist_stroke': '100m Backstroke',\n",
       "  'rc_round': 'Final',\n",
       "  'rc_time': '1:10.64'},\n",
       " {'sw_id': '5396447',\n",
       "  'sw_yob': '1992',\n",
       "  'sw_gender': 'M',\n",
       "  'rc_dist_stroke': '50m Breaststroke',\n",
       "  'rc_round': 'Final',\n",
       "  'rc_time': '36.72'},\n",
       " {'sw_id': '5396447',\n",
       "  'sw_yob': '1992',\n",
       "  'sw_gender': 'M',\n",
       "  'rc_dist_stroke': '25m Butterfly',\n",
       "  'rc_round': 'Final',\n",
       "  'rc_time': '14.08'},\n",
       " {'sw_id': '5396447',\n",
       "  'sw_yob': '1992',\n",
       "  'sw_gender': 'M',\n",
       "  'rc_dist_stroke': '50m Breaststroke Laps',\n",
       "  'rc_round': '4 × 50m Medley, Final',\n",
       "  'rc_time': '37.60'},\n",
       " {'sw_id': '4040463',\n",
       "  'sw_yob': '1979',\n",
       "  'sw_gender': 'M',\n",
       "  'rc_dist_stroke': '25m Freestyle',\n",
       "  'rc_round': 'Final',\n",
       "  'rc_time': '20.29'},\n",
       " {'sw_id': '4040463',\n",
       "  'sw_yob': '1979',\n",
       "  'sw_gender': 'M',\n",
       "  'rc_dist_stroke': '50m Backstroke',\n",
       "  'rc_round': 'Final',\n",
       "  'rc_time': '43.41'},\n",
       " {'sw_id': '4040463',\n",
       "  'sw_yob': '1979',\n",
       "  'sw_gender': 'X',\n",
       "  'rc_dist_stroke': '50m Backstroke',\n",
       "  'rc_round': '4 × 50m Medley, Final',\n",
       "  'rc_time': '42.79'},\n",
       " {'sw_id': '4040463',\n",
       "  'sw_yob': '1979',\n",
       "  'sw_gender': 'M',\n",
       "  'rc_dist_stroke': '100m Backstroke',\n",
       "  'rc_round': 'Final',\n",
       "  'rc_time': '1:33.86'},\n",
       " {'sw_id': '4456009',\n",
       "  'sw_yob': '1962',\n",
       "  'sw_gender': 'M',\n",
       "  'rc_dist_stroke': '100m Freestyle',\n",
       "  'rc_round': 'Final',\n",
       "  'rc_time': '1:02.38'},\n",
       " {'sw_id': '4456009',\n",
       "  'sw_yob': '1962',\n",
       "  'sw_gender': 'M',\n",
       "  'rc_dist_stroke': '200m Freestyle',\n",
       "  'rc_round': 'Final',\n",
       "  'rc_time': '2:19.26'},\n",
       " {'sw_id': '4456009',\n",
       "  'sw_yob': '1962',\n",
       "  'sw_gender': 'M',\n",
       "  'rc_dist_stroke': '50m Backstroke',\n",
       "  'rc_round': '4 × 50m Medley, Final',\n",
       "  'rc_time': '34.97'},\n",
       " {'sw_id': '4456009',\n",
       "  'sw_yob': '1962',\n",
       "  'sw_gender': 'M',\n",
       "  'rc_dist_stroke': '50m Butterfly',\n",
       "  'rc_round': 'Final',\n",
       "  'rc_time': '30.88'},\n",
       " {'sw_id': '4456009',\n",
       "  'sw_yob': '1962',\n",
       "  'sw_gender': 'M',\n",
       "  'rc_dist_stroke': '100m Medley',\n",
       "  'rc_round': 'Final',\n",
       "  'rc_time': '1:13.05'},\n",
       " {'sw_id': '4456009',\n",
       "  'sw_yob': '1962',\n",
       "  'sw_gender': 'X',\n",
       "  'rc_dist_stroke': '50m Freestyle Laps',\n",
       "  'rc_round': '4 × 50m Freestyle, Final',\n",
       "  'rc_time': '29.07'},\n",
       " {'sw_id': '4568512',\n",
       "  'sw_yob': '1995',\n",
       "  'sw_gender': 'M',\n",
       "  'rc_dist_stroke': '50m Freestyle',\n",
       "  'rc_round': 'Final',\n",
       "  'rc_time': '30.28'},\n",
       " {'sw_id': '4469236',\n",
       "  'sw_yob': '1962',\n",
       "  'sw_gender': 'M',\n",
       "  'rc_dist_stroke': '50m Freestyle',\n",
       "  'rc_round': 'Final',\n",
       "  'rc_time': '32.88'},\n",
       " {'sw_id': '4469236',\n",
       "  'sw_yob': '1962',\n",
       "  'sw_gender': 'M',\n",
       "  'rc_dist_stroke': '50m Backstroke',\n",
       "  'rc_round': 'Final',\n",
       "  'rc_time': '41.73'},\n",
       " {'sw_id': '4469236',\n",
       "  'sw_yob': '1962',\n",
       "  'sw_gender': 'M',\n",
       "  'rc_dist_stroke': '50m Breaststroke',\n",
       "  'rc_round': 'Final',\n",
       "  'rc_time': '38.87'},\n",
       " {'sw_id': '4469236',\n",
       "  'sw_yob': '1962',\n",
       "  'sw_gender': 'M',\n",
       "  'rc_dist_stroke': '50m Butterfly',\n",
       "  'rc_round': 'Final',\n",
       "  'rc_time': '35.95'},\n",
       " {'sw_id': '4469236',\n",
       "  'sw_yob': '1962',\n",
       "  'sw_gender': 'M',\n",
       "  'rc_dist_stroke': '100m Medley',\n",
       "  'rc_round': 'Final',\n",
       "  'rc_time': '1:20.79'},\n",
       " {'sw_id': '4469236',\n",
       "  'sw_yob': '1962',\n",
       "  'sw_gender': 'M',\n",
       "  'rc_dist_stroke': '50m Freestyle Laps',\n",
       "  'rc_round': '4 × 50m Freestyle, Final',\n",
       "  'rc_time': '32.95'},\n",
       " {'sw_id': '4469236',\n",
       "  'sw_yob': '1962',\n",
       "  'sw_gender': 'X',\n",
       "  'rc_dist_stroke': '50m Breaststroke Laps',\n",
       "  'rc_round': '4 × 50m Medley, Final',\n",
       "  'rc_time': '38.04'},\n",
       " {'sw_id': '4941482',\n",
       "  'sw_yob': '1985',\n",
       "  'sw_gender': 'M',\n",
       "  'rc_dist_stroke': '50m Freestyle',\n",
       "  'rc_round': 'Final',\n",
       "  'rc_time': '27.33'},\n",
       " {'sw_id': '4941482',\n",
       "  'sw_yob': '1985',\n",
       "  'sw_gender': 'M',\n",
       "  'rc_dist_stroke': '25m Butterfly',\n",
       "  'rc_round': 'Final',\n",
       "  'rc_time': '13.13'},\n",
       " {'sw_id': '4941482',\n",
       "  'sw_yob': '1985',\n",
       "  'sw_gender': 'M',\n",
       "  'rc_dist_stroke': '50m Butterfly',\n",
       "  'rc_round': 'Final',\n",
       "  'rc_time': '29.66'},\n",
       " {'sw_id': '4941482',\n",
       "  'sw_yob': '1985',\n",
       "  'sw_gender': 'M',\n",
       "  'rc_dist_stroke': '50m Butterfly Laps',\n",
       "  'rc_round': '4 × 50m Medley, Final',\n",
       "  'rc_time': '31.98'},\n",
       " {'sw_id': '4568665',\n",
       "  'sw_yob': '1957',\n",
       "  'sw_gender': 'M',\n",
       "  'rc_dist_stroke': '100m Freestyle',\n",
       "  'rc_round': 'Final',\n",
       "  'rc_time': '1:17.45'},\n",
       " {'sw_id': '4568665',\n",
       "  'sw_yob': '1957',\n",
       "  'sw_gender': 'M',\n",
       "  'rc_dist_stroke': '400m Freestyle',\n",
       "  'rc_round': '800m Freestyle, Final',\n",
       "  'rc_time': '5:55.70'},\n",
       " {'sw_id': '4568665',\n",
       "  'sw_yob': '1957',\n",
       "  'sw_gender': 'M',\n",
       "  'rc_dist_stroke': '800m Freestyle',\n",
       "  'rc_round': 'Final',\n",
       "  'rc_time': '11:59.96'},\n",
       " {'sw_id': '4568665',\n",
       "  'sw_yob': '1957',\n",
       "  'sw_gender': 'M',\n",
       "  'rc_dist_stroke': '100m Backstroke',\n",
       "  'rc_round': 'Final',\n",
       "  'rc_time': '1:36.05'},\n",
       " {'sw_id': '4568665',\n",
       "  'sw_yob': '1957',\n",
       "  'sw_gender': 'M',\n",
       "  'rc_dist_stroke': '100m Breaststroke',\n",
       "  'rc_round': 'Final',\n",
       "  'rc_time': '1:47.64'},\n",
       " {'sw_id': '4568665',\n",
       "  'sw_yob': '1957',\n",
       "  'sw_gender': 'M',\n",
       "  'rc_dist_stroke': '50m Freestyle Laps',\n",
       "  'rc_round': '4 × 50m Freestyle, Final',\n",
       "  'rc_time': '34.21'}]"
      ]
     },
     "execution_count": 74,
     "metadata": {},
     "output_type": "execute_result"
    }
   ],
   "source": [
    "race_list"
   ]
  },
  {
   "cell_type": "markdown",
   "metadata": {},
   "source": [
    "## Assess - www.swimming.ca"
   ]
  },
  {
   "cell_type": "markdown",
   "metadata": {},
   "source": [
    "## Clean - www.swimming.ca"
   ]
  },
  {
   "cell_type": "code",
   "execution_count": null,
   "metadata": {},
   "outputs": [],
   "source": []
  }
 ],
 "metadata": {
  "kernelspec": {
   "display_name": "Python 3",
   "language": "python",
   "name": "python3"
  },
  "language_info": {
   "codemirror_mode": {
    "name": "ipython",
    "version": 3
   },
   "file_extension": ".py",
   "mimetype": "text/x-python",
   "name": "python",
   "nbconvert_exporter": "python",
   "pygments_lexer": "ipython3",
   "version": "3.6.9"
  }
 },
 "nbformat": 4,
 "nbformat_minor": 4
}
