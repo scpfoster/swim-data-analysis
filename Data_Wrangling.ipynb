{
 "cells": [
  {
   "cell_type": "markdown",
   "metadata": {},
   "source": [
    "# About this Notebook\n",
    "\n",
    "Data Wrangling can be defined as the process to:\n",
    "* gather\n",
    "* assess\n",
    "* clean\n",
    "data in support of data analytics tasks.\n",
    "\n",
    "This notebook contains the code to extract data related to Master Swim Performances and save it in a local format that supports Data Exploration activities.\n",
    "\n",
    "## Supported Data Sources\n",
    "\n",
    "Currently data is only extracted from the Canadian swimming site that collects the results for Masters Swimmers."
   ]
  },
  {
   "cell_type": "markdown",
   "metadata": {},
   "source": [
    "## Error Handling\n",
    "\n",
    "When I created the meet list for a complete season, I found that some meets don't have results posted\n",
    "\n",
    "Right now, my code assumes that results will exist.  This will need to be updated"
   ]
  },
  {
   "cell_type": "code",
   "execution_count": 1,
   "metadata": {},
   "outputs": [],
   "source": [
    "import requests\n",
    "import lxml.html as lh\n",
    "from bs4 import BeautifulSoup\n",
    "import numpy as np\n",
    "import pandas as pd\n",
    "import time\n",
    "from random import randint\n",
    "import logging"
   ]
  },
  {
   "cell_type": "code",
   "execution_count": 2,
   "metadata": {},
   "outputs": [],
   "source": [
    "#set up the logger and initially set the logging level to debug\n",
    "# since I am using a notebook, I am not going to capture the log in a file\n",
    "logging.basicConfig(level=logging.DEBUG)"
   ]
  },
  {
   "cell_type": "markdown",
   "metadata": {},
   "source": [
    "# Canadian Master Swimming Results Collection \n",
    "\n",
    "Starting with the information I know how to access from personal experience."
   ]
  },
  {
   "cell_type": "markdown",
   "metadata": {},
   "source": [
    "## Gather - www.swimming.ca\n",
    "The following code will scrape the available data from the www.swimming.ca website for Masters Swimmers. The code is based on the website structure that exists during the time period Aug - Oct 2020.\n",
    "\n",
    "The website has a layered approach to finding results.\n",
    "1. Navigate to the page that has a list of meet-results\n",
    "2. Filter the list of meet results by **Season**, **Province**, **Month**\n",
    "3. Select the meet of interest in the filtered list\n",
    "4. At this point it is possible to see all the results for each club that participated, or the results by event.  I will be collecting all the results by participating club.\n",
    "\n",
    "I did contact Swim Canada to see if there was an API that would allow me to use an approach other than web scraping to get the results, but so far they have not been able to support my request.\n",
    "\n",
    "For the parameters **Seasion**, **Province** and **Month**, there are few points to note:\n",
    "* Season - the swim season in Canada is split over 2 calendar years and runs Sep to Aug.  So the swim season 2019/2020 will be the period 1 Sep 2019 to 31 Aug 2020.  The value passed to the **Season** parameter is the last 2 numbers in the second part of the season identifier.  So to access swim meets from Nov 2019, the season parameter will be 20 ('season'='20')\n",
    "* Month - the month must be specified as a number from 1 to 12.  It is not possible to have all the months in a single season being available at one time\n",
    "* Province - It is possible to filter by province/territory or use all provinces. To access an individual province/territory, the provinces/territories are numbered from 1 to 11 in alphabetical order.  So to get only Alberta, 'province'='1' and to get Yukon, 'province'='11'.  The supported Territories are Northwest Territories and Yukon.  For all provinces, no number is provided to province (province = '')\n",
    "\n",
    "Since I am only interested in Masters results, when looking at the meet list, I will look for MEET TYPE  of Masters.  This will miss some swimmers that compete in non-Masters meets as an Open Master.  I plan to come back and find these results after collecting the Masters Meets\n",
    "\n",
    "The only URL specified in my code is the URL associated with step 1 above, navigating to the meet-results page.  The subsequent URLs will be recovered from the information available when the various filters are applied."
   ]
  },
  {
   "cell_type": "code",
   "execution_count": 3,
   "metadata": {},
   "outputs": [],
   "source": [
    "# URLs of interest\n",
    "url_meetlist ='https://www.swimming.ca/en/events-results/meet-results/'"
   ]
  },
  {
   "cell_type": "code",
   "execution_count": 4,
   "metadata": {},
   "outputs": [],
   "source": [
    "#change the logging level\n",
    "logging.getLogger().setLevel(logging.INFO)"
   ]
  },
  {
   "cell_type": "markdown",
   "metadata": {},
   "source": [
    "## Get Meet Info\n",
    "The next section of code is used to retrieve meet information and write the results to a csv.  One csv per season\n",
    "\n",
    "### Seasons Processed\n",
    "To see what seasons have been processed, look at the csv's in the same file folder as this notebook.  Best effort list as I process a season:\n",
    "* 2019-2020\n",
    "* 2018-2019\n",
    "* 2017-2018"
   ]
  },
  {
   "cell_type": "code",
   "execution_count": 5,
   "metadata": {},
   "outputs": [],
   "source": [
    "# function to get meet list\n",
    "def getMeetList(season, month, base_url):\n",
    "    #create param list for the URL\n",
    "    call_params = {'season': season, 'province':'', 'month': month}\n",
    "    \n",
    "    #get the page after a random delay\n",
    "    #I think the crawl delay is 10 seconds, so while it will take longer,\n",
    "    #I will set a random delay of 10-14 seconds\n",
    "    sleepTime = randint(10,14)\n",
    "    logging.debug(\"sleep time is %i seconds\", sleepTime)\n",
    "    time.sleep(sleepTime)\n",
    "    response=requests.get(base_url, params=call_params)\n",
    "    logging.debug('%s', response.url)\n",
    "    \n",
    "    #parse the page and create the list\n",
    "    #use Beautiful Soup to parse the returned page\n",
    "    meetList_resp = BeautifulSoup(response.text, 'lxml')\n",
    "    \n",
    "    rtnList = []\n",
    "    for item in meetList_resp.find_all('tr'):\n",
    "        if item.contents[5].contents[0] == \"Masters\":\n",
    "            ## need to handle the case where there was a meet, but there are no results\n",
    "            \n",
    "            temp_dict = {}\n",
    "            try:\n",
    "                temp_dict['meet_date'] = item.contents[0].contents[0].contents[0]\n",
    "            except:\n",
    "                temp_dict['meet_date'] = None\n",
    "                \n",
    "            try:    \n",
    "                temp_dict['meet_url'] = item.contents[1].a.attrs['href']\n",
    "            except:\n",
    "                temp_dict['meet_url'] = None\n",
    "                \n",
    "            try:    \n",
    "                temp_dict['meet_prov'] = item.contents[2].contents[0]\n",
    "            except:\n",
    "                temp_dict['meet_prov'] = None\n",
    "                \n",
    "            try:\n",
    "                temp_dict['meet_host'] = item.contents[3].contents[0].contents[0]\n",
    "            except:\n",
    "                temp_dict['meet_host'] = None\n",
    "                \n",
    "            try:\n",
    "                temp_dict['meet_course'] = item.contents[4].contents[0]\n",
    "            except:\n",
    "                temp_dict['meet_course'] = None\n",
    "                \n",
    "            try:\n",
    "                temp_dict['meet_type'] = item.contents[5].contents[0]\n",
    "            except:\n",
    "                temp_dict['meet_type'] = None\n",
    "                \n",
    "            try:\n",
    "                temp_dict['meet_status'] = item.contents[6].contents[0]\n",
    "            except:\n",
    "                temp_dict['meet_status'] = None\n",
    "                \n",
    "            rtnList.append(temp_dict)\n",
    "    \n",
    "    logging.debug(\"Number of meets: %i\", len(rtnList))\n",
    "    #return the list of meets\n",
    "    return rtnList"
   ]
  },
  {
   "cell_type": "markdown",
   "metadata": {},
   "source": [
    "For each season:\n",
    "\n",
    "* update the season value and csv name in the dictionary\n",
    "* change the returned list to a datafram\n",
    "* write the dataframe to a csv"
   ]
  },
  {
   "cell_type": "code",
   "execution_count": 6,
   "metadata": {},
   "outputs": [],
   "source": [
    "temp_dict = {}\n",
    "temp_dict['season'] = '18'\n",
    "temp_dict['csv_name'] = 'meets_2017_2018.csv'"
   ]
  },
  {
   "cell_type": "code",
   "execution_count": 7,
   "metadata": {},
   "outputs": [
    {
     "name": "stderr",
     "output_type": "stream",
     "text": [
      "INFO:root:month being processed 9\n",
      "INFO:root:month being processed 10\n",
      "INFO:root:month being processed 11\n",
      "INFO:root:month being processed 12\n",
      "INFO:root:month being processed 1\n",
      "INFO:root:month being processed 2\n",
      "INFO:root:month being processed 3\n",
      "INFO:root:month being processed 4\n",
      "INFO:root:month being processed 5\n",
      "INFO:root:month being processed 6\n",
      "INFO:root:month being processed 7\n",
      "INFO:root:month being processed 8\n"
     ]
    }
   ],
   "source": [
    "MeetListFn = []\n",
    "\n",
    "#get the meet list for a season\n",
    "monthList = ['9', '10', '11', '12', '1', '2', '3', '4', '5', '6', '7', '8']\n",
    "for mon in monthList:\n",
    "    logging.info(\"month being processed %s\", mon)\n",
    "    tempList = getMeetList(temp_dict['season'], mon, url_meetlist)\n",
    "    for item in tempList:\n",
    "        MeetListFn.append(item)"
   ]
  },
  {
   "cell_type": "code",
   "execution_count": 8,
   "metadata": {},
   "outputs": [
    {
     "data": {
      "text/plain": [
       "36"
      ]
     },
     "execution_count": 8,
     "metadata": {},
     "output_type": "execute_result"
    }
   ],
   "source": [
    "len(MeetListFn)"
   ]
  },
  {
   "cell_type": "code",
   "execution_count": 9,
   "metadata": {},
   "outputs": [
    {
     "data": {
      "text/html": [
       "<div>\n",
       "<style scoped>\n",
       "    .dataframe tbody tr th:only-of-type {\n",
       "        vertical-align: middle;\n",
       "    }\n",
       "\n",
       "    .dataframe tbody tr th {\n",
       "        vertical-align: top;\n",
       "    }\n",
       "\n",
       "    .dataframe thead th {\n",
       "        text-align: right;\n",
       "    }\n",
       "</style>\n",
       "<table border=\"1\" class=\"dataframe\">\n",
       "  <thead>\n",
       "    <tr style=\"text-align: right;\">\n",
       "      <th></th>\n",
       "      <th>meet_course</th>\n",
       "      <th>meet_date</th>\n",
       "      <th>meet_host</th>\n",
       "      <th>meet_prov</th>\n",
       "      <th>meet_status</th>\n",
       "      <th>meet_type</th>\n",
       "      <th>meet_url</th>\n",
       "    </tr>\n",
       "  </thead>\n",
       "  <tbody>\n",
       "    <tr>\n",
       "      <th>0</th>\n",
       "      <td>SC</td>\n",
       "      <td>28 Oct 2017</td>\n",
       "      <td>BRO</td>\n",
       "      <td>QC</td>\n",
       "      <td>Completed</td>\n",
       "      <td>Masters</td>\n",
       "      <td>https://www.swimming.ca/en/meet/22732</td>\n",
       "    </tr>\n",
       "    <tr>\n",
       "      <th>1</th>\n",
       "      <td>SC</td>\n",
       "      <td>28 Oct 2017</td>\n",
       "      <td>HALT</td>\n",
       "      <td>NS</td>\n",
       "      <td>Completed</td>\n",
       "      <td>Masters</td>\n",
       "      <td>https://www.swimming.ca/en/meet/22714</td>\n",
       "    </tr>\n",
       "    <tr>\n",
       "      <th>2</th>\n",
       "      <td>SC</td>\n",
       "      <td>20 Oct 2017</td>\n",
       "      <td>CASO</td>\n",
       "      <td>QC</td>\n",
       "      <td>Completed</td>\n",
       "      <td>Masters</td>\n",
       "      <td>https://www.swimming.ca/en/meet/22779</td>\n",
       "    </tr>\n",
       "    <tr>\n",
       "      <th>3</th>\n",
       "      <td>SC</td>\n",
       "      <td>14 Oct 2017</td>\n",
       "      <td>CMSC</td>\n",
       "      <td>AB</td>\n",
       "      <td>Completed</td>\n",
       "      <td>Masters</td>\n",
       "      <td>https://www.swimming.ca/en/meet/21556</td>\n",
       "    </tr>\n",
       "    <tr>\n",
       "      <th>4</th>\n",
       "      <td>SC</td>\n",
       "      <td>25 Nov 2017</td>\n",
       "      <td>EMSC</td>\n",
       "      <td>AB</td>\n",
       "      <td>Completed</td>\n",
       "      <td>Masters</td>\n",
       "      <td>https://www.swimming.ca/en/meet/22803</td>\n",
       "    </tr>\n",
       "  </tbody>\n",
       "</table>\n",
       "</div>"
      ],
      "text/plain": [
       "  meet_course    meet_date meet_host meet_prov meet_status meet_type  \\\n",
       "0          SC  28 Oct 2017       BRO        QC   Completed   Masters   \n",
       "1          SC  28 Oct 2017      HALT        NS   Completed   Masters   \n",
       "2          SC  20 Oct 2017      CASO        QC   Completed   Masters   \n",
       "3          SC  14 Oct 2017      CMSC        AB   Completed   Masters   \n",
       "4          SC  25 Nov 2017      EMSC        AB   Completed   Masters   \n",
       "\n",
       "                                meet_url  \n",
       "0  https://www.swimming.ca/en/meet/22732  \n",
       "1  https://www.swimming.ca/en/meet/22714  \n",
       "2  https://www.swimming.ca/en/meet/22779  \n",
       "3  https://www.swimming.ca/en/meet/21556  \n",
       "4  https://www.swimming.ca/en/meet/22803  "
      ]
     },
     "execution_count": 9,
     "metadata": {},
     "output_type": "execute_result"
    }
   ],
   "source": [
    "#create a dataframe and write the dataframe to a csv\n",
    "df = pd.DataFrame(MeetListFn)\n",
    "df.head()"
   ]
  },
  {
   "cell_type": "code",
   "execution_count": 10,
   "metadata": {},
   "outputs": [],
   "source": [
    "df.to_csv(temp_dict['csv_name'], index=False)"
   ]
  },
  {
   "cell_type": "markdown",
   "metadata": {},
   "source": [
    "## Get teams participating in meet info\n",
    "\n",
    "Next section will get the team lists for each meet and write the results to a csv"
   ]
  },
  {
   "cell_type": "markdown",
   "metadata": {},
   "source": [
    "## Get swimmer info\n",
    "\n",
    "The next section will get the results for each swimmer on a team and write the results to a csv"
   ]
  },
  {
   "cell_type": "markdown",
   "metadata": {},
   "source": [
    "## Assess - www.swimming.ca"
   ]
  },
  {
   "cell_type": "markdown",
   "metadata": {},
   "source": [
    "## Clean - www.swimming.ca"
   ]
  },
  {
   "cell_type": "markdown",
   "metadata": {},
   "source": [
    "# Development Code\n",
    "\n",
    "While creating the final functions, I used the following code to explore the webpages to set up the parsing correctly\n",
    "\n",
    "I don't want to loose it, but it should not be run"
   ]
  },
  {
   "cell_type": "markdown",
   "metadata": {},
   "source": [
    "### Explore Structure of html pages\n",
    "In order to recover the information of interest, the way the information is presented on the various html pages needs to be understood.\n",
    "\n",
    "Once I know how to capture the data of interest, I will create functions to iterate through diffferent seasons, months and meets.\n",
    "\n",
    "The information I am interested in can be grouped into 3 categories.\n",
    "\n",
    "**Swimmer Information**\n",
    "* sw_id_num - unique swimmer id number\n",
    "* sw_name - swimmers name\n",
    "* sw_yob - swimmers year of birth\n",
    "\n",
    "Note that swimmers age is determined by the age on Dec 31st of the year in which the competition happened.\n",
    "\n",
    "**Meet Information**\n",
    "\n",
    "* mt_id_num - unique meet id number\n",
    "* mt_name - meet name\n",
    "* mt_date - first day of meet\n",
    "* mt_duration - number of days the swim meet lasted\n",
    "* mt_pool_name - name of the pool\n",
    "* mt_pool_address - address of the pool\n",
    "* mt_sc_lc - indication if meet was a long course or short course meet\n",
    "\n",
    "**Race Information**\n",
    "* rc_dist - distance of race - eg 25m, 100m, 400m\n",
    "* rc_stroke - stroke of race - freestyle, backstroke, butterfly, breaststroke, IM\n",
    "* rc_time - time it took the swimmer to complete the distance\n",
    "* rc_round - heat, final, split of longer swim or part of relay\n",
    "* sw_id_num - unique swimmer id\n",
    "* mt_id_num - unique meet id\n",
    "\n",
    "I am also confident that at some point I will want club information, but at this point I'm not sure what I would do with it.\n",
    "\n",
    "I also have not decided the best way to store the information I scrape.  Initially, I will put it in 3 different csv's, but would like to explore a graph database.  I have not used them before and would like to learn."
   ]
  },
  {
   "cell_type": "code",
   "execution_count": null,
   "metadata": {},
   "outputs": [],
   "source": [
    "# start with the 2019/2020 season, noting that the season came to an abrupt end in March 2020 because of Covid19\n",
    "# using November since I know there is a masters meet in Nov 2019\n",
    "call_params = {'season':'20', 'province':'', 'month':'11'}\n",
    "#response=requests.get('https://www.swimming.ca/en/events-results/meet-results/', params={'season':'20', 'province':'', 'month':'11'})\n",
    "response=requests.get('https://www.swimming.ca/en/events-results/meet-results/', params=call_params)\n",
    "#sanity check that my parameter specification worked as expected\n",
    "response.url"
   ]
  },
  {
   "cell_type": "code",
   "execution_count": null,
   "metadata": {},
   "outputs": [],
   "source": [
    "#use Beautiful Soup to parse the returned page\n",
    "meetList_resp = BeautifulSoup(response.text, 'lxml')"
   ]
  },
  {
   "cell_type": "code",
   "execution_count": null,
   "metadata": {},
   "outputs": [],
   "source": [
    "meetList_resp.find_all('tr')"
   ]
  },
  {
   "cell_type": "code",
   "execution_count": null,
   "metadata": {},
   "outputs": [],
   "source": [
    "#find the masters swim meets in the response text\n",
    "meetList = []\n",
    "for item in meetList_resp.find_all('tr'):\n",
    "    if item.contents[5].contents[0] == \"Masters\":\n",
    "        temp_dict = {}\n",
    "        temp_dict['meet_date'] = item.contents[0].contents[0].contents[0]\n",
    "        temp_dict['meet_url'] = item.contents[1].a.attrs['href']\n",
    "        temp_dict['meet_prov'] = item.contents[2].contents[0]\n",
    "        temp_dict['meet_host'] = item.contents[3].contents[0].contents[0]\n",
    "        temp_dict['meet_course'] = item.contents[4].contents[0]\n",
    "        temp_dict['meet_type'] = item.contents[5].contents[0]\n",
    "        meetList.append(temp_dict)\n",
    "        ##used for debug/development\n",
    "        #print(item.contents[0].contents[0].contents[0])\n",
    "        #print(item.contents[1].a.attrs['href'])\n",
    "        #print(item.contents[2].contents[0])\n",
    "        #print(item.contents[3].contents[0].contents[0])\n",
    "        #print(item.contents[4].contents[0])\n",
    "        #print(item.contents[5].contents[0])\n",
    "print(\"number of masters meets\", len(meetList))"
   ]
  },
  {
   "cell_type": "code",
   "execution_count": null,
   "metadata": {},
   "outputs": [],
   "source": [
    "meetList[0]"
   ]
  },
  {
   "cell_type": "markdown",
   "metadata": {},
   "source": [
    "So 8 masters meets were held in Canada in Nov 2019.\n",
    "\n",
    "Now use the meet_url to get the results for that meet.  The use Beautiful Soup to parse the returned page"
   ]
  },
  {
   "cell_type": "code",
   "execution_count": null,
   "metadata": {},
   "outputs": [],
   "source": [
    "r2_url = meetList[0]['meet_url']\n",
    "r2 = requests.get(r2_url)\n",
    "temp_r2 = BeautifulSoup(r2.text, 'lxml')"
   ]
  },
  {
   "cell_type": "markdown",
   "metadata": {},
   "source": [
    "My next step was to create a list of clubs that participated. I looked through the html on the page and determined the information I was interested in was held in 'option' tags."
   ]
  },
  {
   "cell_type": "code",
   "execution_count": null,
   "metadata": {},
   "outputs": [],
   "source": [
    "clubList = []\n",
    "for item in temp_r2.find_all('option'):\n",
    "    #print(item.contents[0])\n",
    "    temp_dict = {}\n",
    "    if \"Events\" in item.contents[0]:\n",
    "        #print(item)\n",
    "        break\n",
    "    elif \"Participants\" not in item.contents[0]:\n",
    "        temp_dict['club_res_url'] = item.attrs['data-href']\n",
    "        temp_dict['club_number'] = item.attrs['value']\n",
    "        temp_dict['club_name'] = item.contents[0]\n",
    "        clubList.append(temp_dict)\n",
    "        ## used for dev/debug\n",
    "        #print(item.attrs['data-href'])\n",
    "        #print(item.attrs['value'])\n",
    "        #print(item.contents[0])\n",
    "        \n",
    "print(\"number of clubs in the meet\", len(clubList))\n",
    "print(\"information about each club\") \n",
    "clubList[0] "
   ]
  },
  {
   "cell_type": "markdown",
   "metadata": {},
   "source": [
    "The next step is to get the club results and retrieve the information about each swimmer"
   ]
  },
  {
   "cell_type": "code",
   "execution_count": null,
   "metadata": {},
   "outputs": [],
   "source": [
    "r3_url = clubList[0]['club_res_url']\n",
    "r3 = requests.get(r3_url)\n",
    "temp_r3 = BeautifulSoup(r3.text, 'lxml')"
   ]
  },
  {
   "cell_type": "markdown",
   "metadata": {},
   "source": [
    "After examining the HTML for the per club results page, the results of interest seem to be in the first 4 tables:\n",
    "* table 0 - men's results\n",
    "* table 1 - women's results\n",
    "* table 2 - relay results\n",
    "* table 3 - meet resource info"
   ]
  },
  {
   "cell_type": "code",
   "execution_count": null,
   "metadata": {},
   "outputs": [],
   "source": [
    "temp_table = temp_r3.find_all(\"table\")\n",
    "len(temp_table)"
   ]
  },
  {
   "cell_type": "code",
   "execution_count": null,
   "metadata": {},
   "outputs": [],
   "source": [
    "#look at the results for the men's table\n",
    "count = 0\n",
    "swimmer_list = []\n",
    "race_list = []\n",
    "for item in temp_table[0].find_all('tr'):\n",
    "    temp_sw_dict = {}\n",
    "    temp_rc_dict = {}\n",
    "    if item.has_attr('class'):\n",
    "        print(\"new swimmer!!\")\n",
    "        #print(\"row count\", count, \"length of info\", len(item), \"contents\", item)\n",
    "        #print(\"swimmer url\", item.find('a').attrs['href'])\n",
    "        #print(\"swimmer id\", item.find('a').attrs['href'].split('/')[5])\n",
    "        #print(\"swimmer name\", item.find('a').contents[0])\n",
    "        #print(\"swimmer YOB\", item.find('th').contents[1][3:7])\n",
    "        # need swim id for both the swimmer and the race dictionary\n",
    "        sw_id = item.find('a').attrs['href'].split('/')[5]\n",
    "        sw_yob = item.find('th').contents[1][3:7]\n",
    "        temp_sw_dict['sw_url'] = item.find('a').attrs['href']\n",
    "        temp_sw_dict['sw_id'] = sw_id\n",
    "        temp_sw_dict['sw_name'] = item.find('a').contents[0]\n",
    "        temp_sw_dict['sw_yob'] = sw_yob\n",
    "        swimmer_list.append(temp_sw_dict)\n",
    "    #print(count)\n",
    "    #if item.children[0].has_attr('class'):\n",
    "    #    print(\"race time and dist available\")\n",
    "    #    print(item.children[0])\n",
    "    elif count != 0:\n",
    "        #print(\"row count\", count, len(item.contents))\n",
    "        #for subItem in item:\n",
    "        #    print(len(subItem), subItem.string)\n",
    "        #print(\"gender\", item.contents[0].find('a').attrs['data-query-gender'])\n",
    "        #print(\"race distance and stroke\", item.contents[0])\n",
    "        #print(\"race distance and stroke\", item.contents[0].find('span').find('a').contents[0])\n",
    "        #print(\"race round\", item.contents[1].contents[0])\n",
    "        #print(\"race time\", item.contents[3].contents[0])\n",
    "        #get the gender for both swim and race dict\n",
    "        sw_gender = item.contents[0].find('a').attrs['data-query-gender']\n",
    "        temp_rc_dict['sw_id'] = sw_id\n",
    "        temp_rc_dict['sw_yob'] = sw_yob\n",
    "        temp_rc_dict['sw_gender'] = sw_gender\n",
    "        #temp_sw_dict['sw_gender'] = sw_gender\n",
    "        temp_rc_dict['rc_dist_stroke'] = item.contents[0].find('span').find('a').contents[0]\n",
    "        temp_rc_dict['rc_round'] = item.contents[1].contents[0]\n",
    "        temp_rc_dict['rc_time'] = item.contents[3].contents[0]\n",
    "        race_list.append(temp_rc_dict)\n",
    "    else:\n",
    "        print(\"row count\", count)\n",
    "    \n",
    "    #append the temp dict to the lists\n",
    "    #swimmer_list.append(temp_sw_dict)\n",
    "    #race_list.append(temp_rc_dict)\n",
    "    count += 1\n",
    "    # just print out some to see the pattern\n",
    "    #if count == 11:\n",
    "    #    break"
   ]
  },
  {
   "cell_type": "code",
   "execution_count": null,
   "metadata": {},
   "outputs": [],
   "source": [
    "swimmer_list"
   ]
  },
  {
   "cell_type": "code",
   "execution_count": null,
   "metadata": {},
   "outputs": [],
   "source": [
    "race_list"
   ]
  }
 ],
 "metadata": {
  "kernelspec": {
   "display_name": "Python 3",
   "language": "python",
   "name": "python3"
  },
  "language_info": {
   "codemirror_mode": {
    "name": "ipython",
    "version": 3
   },
   "file_extension": ".py",
   "mimetype": "text/x-python",
   "name": "python",
   "nbconvert_exporter": "python",
   "pygments_lexer": "ipython3",
   "version": "3.6.9"
  }
 },
 "nbformat": 4,
 "nbformat_minor": 4
}
