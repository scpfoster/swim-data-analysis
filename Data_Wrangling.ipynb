{
 "cells": [
  {
   "cell_type": "markdown",
   "metadata": {},
   "source": [
    "# About this Notebook\n",
    "\n",
    "Data Wrangling can be defined as the process to:\n",
    "* gather\n",
    "* assess\n",
    "* clean\n",
    "data in support of data analytics tasks.\n",
    "\n",
    "This notebook contains the code to extract data related to Master Swim Performances and save it in a local format that supports Data Exploration activities.\n",
    "\n",
    "## Supported Data Sources\n",
    "\n",
    "Currently data is only extracted from the Canadian swimming site that collects the results for Masters Swimmers."
   ]
  },
  {
   "cell_type": "markdown",
   "metadata": {},
   "source": [
    "## Error Handling\n",
    "\n",
    "When I created the meet list for a complete season, I found that some meets don't have results posted\n",
    "\n",
    "Right now, my code assumes that results will exist.  This will need to be updated"
   ]
  },
  {
   "cell_type": "code",
   "execution_count": 1,
   "metadata": {},
   "outputs": [],
   "source": [
    "import requests\n",
    "import lxml.html as lh\n",
    "from bs4 import BeautifulSoup\n",
    "import numpy as np\n",
    "import pandas as pd\n",
    "import time\n",
    "from random import randint\n",
    "import logging"
   ]
  },
  {
   "cell_type": "code",
   "execution_count": 2,
   "metadata": {},
   "outputs": [],
   "source": [
    "#set up the logger and initially set the logging level to debug\n",
    "# since I am using a notebook, I am not going to capture the log in a file\n",
    "logging.basicConfig(level=logging.DEBUG)"
   ]
  },
  {
   "cell_type": "markdown",
   "metadata": {},
   "source": [
    "# Canadian Master Swimming Results Collection \n",
    "\n",
    "Starting with the information I know how to access from personal experience."
   ]
  },
  {
   "cell_type": "markdown",
   "metadata": {},
   "source": [
    "## Gather - www.swimming.ca\n",
    "The following code will scrape the available data from the www.swimming.ca website for Masters Swimmers. The code is based on the website structure that exists during the time period Aug - Oct 2020.\n",
    "\n",
    "The website has a layered approach to finding results.\n",
    "1. Navigate to the page that has a list of meet-results\n",
    "2. Filter the list of meet results by **Season**, **Province**, **Month**\n",
    "3. Select the meet of interest in the filtered list\n",
    "4. At this point it is possible to see all the results for each club that participated, or the results by event.  I will be collecting all the results by participating club.\n",
    "\n",
    "I did contact Swim Canada to see if there was an API that would allow me to use an approach other than web scraping to get the results, but so far they have not been able to support my request.\n",
    "\n",
    "For the parameters **Seasion**, **Province** and **Month**, there are few points to note:\n",
    "* Season - the swim season in Canada is split over 2 calendar years and runs Sep to Aug.  So the swim season 2019/2020 will be the period 1 Sep 2019 to 31 Aug 2020.  The value passed to the **Season** parameter is the last 2 numbers in the second part of the season identifier.  So to access swim meets from Nov 2019, the season parameter will be 20 ('season'='20')\n",
    "* Month - the month must be specified as a number from 1 to 12.  It is not possible to have all the months in a single season being available at one time\n",
    "* Province - It is possible to filter by province/territory or use all provinces. To access an individual province/territory, the provinces/territories are numbered from 1 to 11 in alphabetical order.  So to get only Alberta, 'province'='1' and to get Yukon, 'province'='11'.  The supported Territories are Northwest Territories and Yukon.  For all provinces, no number is provided to province (province = '')\n",
    "\n",
    "Since I am only interested in Masters results, when looking at the meet list, I will look for MEET TYPE  of Masters.  This will miss some swimmers that compete in non-Masters meets as an Open Master.  I plan to come back and find these results after collecting the Masters Meets\n",
    "\n",
    "The only URL specified in my code is the URL associated with step 1 above, navigating to the meet-results page.  The subsequent URLs will be recovered from the information available when the various filters are applied."
   ]
  },
  {
   "cell_type": "code",
   "execution_count": 3,
   "metadata": {},
   "outputs": [],
   "source": [
    "# URLs of interest\n",
    "url_meetlist ='https://www.swimming.ca/en/events-results/meet-results/'"
   ]
  },
  {
   "cell_type": "code",
   "execution_count": 3,
   "metadata": {},
   "outputs": [],
   "source": [
    "#change the logging level\n",
    "logging.getLogger().setLevel(logging.INFO)"
   ]
  },
  {
   "cell_type": "markdown",
   "metadata": {},
   "source": [
    "## Get Meet Info\n",
    "The next section of code is used to retrieve meet information and write the results to a csv.  One csv per season\n",
    "\n",
    "### Seasons Processed\n",
    "To see what seasons have been processed, look at the csv's in the same file folder as this notebook.  Best effort list as I process a season:\n",
    "* 2019-2020\n",
    "* 2018-2019\n",
    "* 2017-2018\n",
    "* 2016-2017"
   ]
  },
  {
   "cell_type": "markdown",
   "metadata": {},
   "source": [
    "For each season:\n",
    "\n",
    "* update the season value and csv name in the dictionary\n",
    "* change the returned list to a datafram\n",
    "* write the dataframe to a csv"
   ]
  },
  {
   "cell_type": "code",
   "execution_count": 4,
   "metadata": {},
   "outputs": [],
   "source": [
    "season_dict = {}\n",
    "season_dict['season'] = '17'\n",
    "season_dict['meet_file'] = 'meets_2016_2017.csv'\n",
    "season_dict['club_file'] = 'clubs_2016_2017.csv'\n",
    "season_dict['swims_file'] = 'swims_2016_2017.csv'"
   ]
  },
  {
   "cell_type": "code",
   "execution_count": 6,
   "metadata": {},
   "outputs": [],
   "source": [
    "# function to get meet list\n",
    "def getMeetList(season, month, base_url):\n",
    "    #create param list for the URL\n",
    "    call_params = {'season': season, 'province':'', 'month': month}\n",
    "    \n",
    "    #get the page after a random delay\n",
    "    #I think the crawl delay is 10 seconds, so while it will take longer,\n",
    "    #I will set a random delay of 10-14 seconds\n",
    "    sleepTime = randint(10,14)\n",
    "    logging.debug(\"sleep time is %i seconds\", sleepTime)\n",
    "    time.sleep(sleepTime)\n",
    "    response=requests.get(base_url, params=call_params)\n",
    "    logging.debug('%s', response.url)\n",
    "    \n",
    "    #parse the page and create the list\n",
    "    #use Beautiful Soup to parse the returned page\n",
    "    meetList_resp = BeautifulSoup(response.text, 'lxml')\n",
    "    \n",
    "    rtnList = []\n",
    "    for item in meetList_resp.find_all('tr'):\n",
    "        if item.contents[5].contents[0] == \"Masters\":\n",
    "            ## need to handle the case where there was a meet, but there are no results\n",
    "            \n",
    "            temp_dict = {}\n",
    "            try:\n",
    "                temp_dict['meet_date'] = item.contents[0].contents[0].contents[0]\n",
    "            except:\n",
    "                temp_dict['meet_date'] = None\n",
    "                \n",
    "            try:    \n",
    "                temp_dict['meet_url'] = item.contents[1].a.attrs['href']\n",
    "            except:\n",
    "                temp_dict['meet_url'] = None\n",
    "                \n",
    "            try:    \n",
    "                temp_dict['meet_prov'] = item.contents[2].contents[0]\n",
    "            except:\n",
    "                temp_dict['meet_prov'] = None\n",
    "                \n",
    "            try:\n",
    "                temp_dict['meet_host'] = item.contents[3].contents[0].contents[0]\n",
    "            except:\n",
    "                temp_dict['meet_host'] = None\n",
    "                \n",
    "            try:\n",
    "                temp_dict['meet_course'] = item.contents[4].contents[0]\n",
    "            except:\n",
    "                temp_dict['meet_course'] = None\n",
    "                \n",
    "            try:\n",
    "                temp_dict['meet_type'] = item.contents[5].contents[0]\n",
    "            except:\n",
    "                temp_dict['meet_type'] = None\n",
    "                \n",
    "            try:\n",
    "                temp_dict['meet_status'] = item.contents[6].contents[0]\n",
    "            except:\n",
    "                temp_dict['meet_status'] = None\n",
    "                \n",
    "            rtnList.append(temp_dict)\n",
    "    \n",
    "    logging.debug(\"Number of meets: %i\", len(rtnList))\n",
    "    #return the list of meets\n",
    "    return rtnList"
   ]
  },
  {
   "cell_type": "code",
   "execution_count": 7,
   "metadata": {},
   "outputs": [
    {
     "name": "stderr",
     "output_type": "stream",
     "text": [
      "INFO:root:month being processed 9\n",
      "INFO:root:month being processed 10\n",
      "INFO:root:month being processed 11\n",
      "INFO:root:month being processed 12\n",
      "INFO:root:month being processed 1\n",
      "INFO:root:month being processed 2\n",
      "INFO:root:month being processed 3\n",
      "INFO:root:month being processed 4\n",
      "INFO:root:month being processed 5\n",
      "INFO:root:month being processed 6\n",
      "INFO:root:month being processed 7\n",
      "INFO:root:month being processed 8\n"
     ]
    }
   ],
   "source": [
    "MeetListFn = []\n",
    "\n",
    "#get the meet list for a season\n",
    "monthList = ['9', '10', '11', '12', '1', '2', '3', '4', '5', '6', '7', '8']\n",
    "for mon in monthList:\n",
    "    logging.info(\"month being processed %s\", mon)\n",
    "    tempList = getMeetList(season_dict['season'], mon, url_meetlist)\n",
    "    for item in tempList:\n",
    "        MeetListFn.append(item)"
   ]
  },
  {
   "cell_type": "code",
   "execution_count": 8,
   "metadata": {},
   "outputs": [
    {
     "data": {
      "text/plain": [
       "33"
      ]
     },
     "execution_count": 8,
     "metadata": {},
     "output_type": "execute_result"
    }
   ],
   "source": [
    "len(MeetListFn)"
   ]
  },
  {
   "cell_type": "code",
   "execution_count": 9,
   "metadata": {},
   "outputs": [
    {
     "data": {
      "text/html": [
       "<div>\n",
       "<style scoped>\n",
       "    .dataframe tbody tr th:only-of-type {\n",
       "        vertical-align: middle;\n",
       "    }\n",
       "\n",
       "    .dataframe tbody tr th {\n",
       "        vertical-align: top;\n",
       "    }\n",
       "\n",
       "    .dataframe thead th {\n",
       "        text-align: right;\n",
       "    }\n",
       "</style>\n",
       "<table border=\"1\" class=\"dataframe\">\n",
       "  <thead>\n",
       "    <tr style=\"text-align: right;\">\n",
       "      <th></th>\n",
       "      <th>meet_course</th>\n",
       "      <th>meet_date</th>\n",
       "      <th>meet_host</th>\n",
       "      <th>meet_prov</th>\n",
       "      <th>meet_status</th>\n",
       "      <th>meet_type</th>\n",
       "      <th>meet_url</th>\n",
       "    </tr>\n",
       "  </thead>\n",
       "  <tbody>\n",
       "    <tr>\n",
       "      <th>0</th>\n",
       "      <td>SC</td>\n",
       "      <td>20–24 Sep 2016</td>\n",
       "      <td>None</td>\n",
       "      <td>BC</td>\n",
       "      <td>Sanctioned</td>\n",
       "      <td>Masters</td>\n",
       "      <td>https://www.swimming.ca/en/meet/19641</td>\n",
       "    </tr>\n",
       "    <tr>\n",
       "      <th>1</th>\n",
       "      <td>SC</td>\n",
       "      <td>29 Oct 2016</td>\n",
       "      <td>GOLD</td>\n",
       "      <td>SK</td>\n",
       "      <td>Completed</td>\n",
       "      <td>Masters</td>\n",
       "      <td>https://www.swimming.ca/en/meet/20064</td>\n",
       "    </tr>\n",
       "    <tr>\n",
       "      <th>2</th>\n",
       "      <td>SC</td>\n",
       "      <td>20 Nov 2016</td>\n",
       "      <td>EMSC</td>\n",
       "      <td>AB</td>\n",
       "      <td>Completed</td>\n",
       "      <td>Masters</td>\n",
       "      <td>https://www.swimming.ca/en/meet/20343</td>\n",
       "    </tr>\n",
       "    <tr>\n",
       "      <th>3</th>\n",
       "      <td>Y</td>\n",
       "      <td>19 Nov 2016</td>\n",
       "      <td>MACC</td>\n",
       "      <td>QC</td>\n",
       "      <td>Completed</td>\n",
       "      <td>Masters</td>\n",
       "      <td>https://www.swimming.ca/en/meet/19959</td>\n",
       "    </tr>\n",
       "    <tr>\n",
       "      <th>4</th>\n",
       "      <td>SC</td>\n",
       "      <td>13 Nov 2016</td>\n",
       "      <td>CMSC</td>\n",
       "      <td>AB</td>\n",
       "      <td>Completed</td>\n",
       "      <td>Masters</td>\n",
       "      <td>https://www.swimming.ca/en/meet/20246</td>\n",
       "    </tr>\n",
       "  </tbody>\n",
       "</table>\n",
       "</div>"
      ],
      "text/plain": [
       "  meet_course       meet_date meet_host meet_prov meet_status meet_type  \\\n",
       "0          SC  20–24 Sep 2016      None        BC  Sanctioned   Masters   \n",
       "1          SC     29 Oct 2016      GOLD        SK   Completed   Masters   \n",
       "2          SC     20 Nov 2016      EMSC        AB   Completed   Masters   \n",
       "3           Y     19 Nov 2016      MACC        QC   Completed   Masters   \n",
       "4          SC     13 Nov 2016      CMSC        AB   Completed   Masters   \n",
       "\n",
       "                                meet_url  \n",
       "0  https://www.swimming.ca/en/meet/19641  \n",
       "1  https://www.swimming.ca/en/meet/20064  \n",
       "2  https://www.swimming.ca/en/meet/20343  \n",
       "3  https://www.swimming.ca/en/meet/19959  \n",
       "4  https://www.swimming.ca/en/meet/20246  "
      ]
     },
     "execution_count": 9,
     "metadata": {},
     "output_type": "execute_result"
    }
   ],
   "source": [
    "#create a dataframe and write the dataframe to a csv\n",
    "df = pd.DataFrame(MeetListFn)\n",
    "df.head()"
   ]
  },
  {
   "cell_type": "code",
   "execution_count": 11,
   "metadata": {},
   "outputs": [],
   "source": [
    "df.to_csv(season_dict['meet_file'], index=False)"
   ]
  },
  {
   "cell_type": "markdown",
   "metadata": {},
   "source": [
    "## Get teams participating in meet info\n",
    "\n",
    "Next section will get the team lists for each meet and write the results to a csv"
   ]
  },
  {
   "cell_type": "code",
   "execution_count": 20,
   "metadata": {},
   "outputs": [
    {
     "data": {
      "text/html": [
       "<div>\n",
       "<style scoped>\n",
       "    .dataframe tbody tr th:only-of-type {\n",
       "        vertical-align: middle;\n",
       "    }\n",
       "\n",
       "    .dataframe tbody tr th {\n",
       "        vertical-align: top;\n",
       "    }\n",
       "\n",
       "    .dataframe thead th {\n",
       "        text-align: right;\n",
       "    }\n",
       "</style>\n",
       "<table border=\"1\" class=\"dataframe\">\n",
       "  <thead>\n",
       "    <tr style=\"text-align: right;\">\n",
       "      <th></th>\n",
       "      <th>meet_course</th>\n",
       "      <th>meet_date</th>\n",
       "      <th>meet_host</th>\n",
       "      <th>meet_prov</th>\n",
       "      <th>meet_status</th>\n",
       "      <th>meet_type</th>\n",
       "      <th>meet_url</th>\n",
       "    </tr>\n",
       "  </thead>\n",
       "  <tbody>\n",
       "    <tr>\n",
       "      <th>0</th>\n",
       "      <td>SC</td>\n",
       "      <td>27 Oct 2018</td>\n",
       "      <td>BRO</td>\n",
       "      <td>QC</td>\n",
       "      <td>Completed</td>\n",
       "      <td>Masters</td>\n",
       "      <td>https://www.swimming.ca/en/meet/32167</td>\n",
       "    </tr>\n",
       "    <tr>\n",
       "      <th>1</th>\n",
       "      <td>SC</td>\n",
       "      <td>27 Oct 2018</td>\n",
       "      <td>HALT</td>\n",
       "      <td>NS</td>\n",
       "      <td>Completed</td>\n",
       "      <td>Masters</td>\n",
       "      <td>https://www.swimming.ca/en/meet/32128</td>\n",
       "    </tr>\n",
       "    <tr>\n",
       "      <th>2</th>\n",
       "      <td>SC</td>\n",
       "      <td>13 Oct 2018</td>\n",
       "      <td>CMSC</td>\n",
       "      <td>AB</td>\n",
       "      <td>Completed</td>\n",
       "      <td>Masters</td>\n",
       "      <td>https://www.swimming.ca/en/meet/24715</td>\n",
       "    </tr>\n",
       "    <tr>\n",
       "      <th>3</th>\n",
       "      <td>SC</td>\n",
       "      <td>25 Nov 2018</td>\n",
       "      <td>EMSC</td>\n",
       "      <td>AB</td>\n",
       "      <td>Completed</td>\n",
       "      <td>Masters</td>\n",
       "      <td>https://www.swimming.ca/en/meet/32275</td>\n",
       "    </tr>\n",
       "    <tr>\n",
       "      <th>4</th>\n",
       "      <td>SC</td>\n",
       "      <td>24 Nov 2018</td>\n",
       "      <td>SDSC</td>\n",
       "      <td>PE</td>\n",
       "      <td>Sanctioned</td>\n",
       "      <td>Masters</td>\n",
       "      <td>https://www.swimming.ca/en/meet/32333</td>\n",
       "    </tr>\n",
       "  </tbody>\n",
       "</table>\n",
       "</div>"
      ],
      "text/plain": [
       "  meet_course    meet_date meet_host meet_prov meet_status meet_type  \\\n",
       "0          SC  27 Oct 2018       BRO        QC   Completed   Masters   \n",
       "1          SC  27 Oct 2018      HALT        NS   Completed   Masters   \n",
       "2          SC  13 Oct 2018      CMSC        AB   Completed   Masters   \n",
       "3          SC  25 Nov 2018      EMSC        AB   Completed   Masters   \n",
       "4          SC  24 Nov 2018      SDSC        PE  Sanctioned   Masters   \n",
       "\n",
       "                                meet_url  \n",
       "0  https://www.swimming.ca/en/meet/32167  \n",
       "1  https://www.swimming.ca/en/meet/32128  \n",
       "2  https://www.swimming.ca/en/meet/24715  \n",
       "3  https://www.swimming.ca/en/meet/32275  \n",
       "4  https://www.swimming.ca/en/meet/32333  "
      ]
     },
     "execution_count": 20,
     "metadata": {},
     "output_type": "execute_result"
    }
   ],
   "source": [
    "# read in the meet list file\n",
    "#df_meet = pd.read_csv('meets_2018_2019.csv')\n",
    "df_meet = pd.read_csv(season_dict['meet_file'])\n",
    "df_meet.head()"
   ]
  },
  {
   "cell_type": "code",
   "execution_count": 14,
   "metadata": {},
   "outputs": [
    {
     "data": {
      "text/plain": [
       "(33, 7)"
      ]
     },
     "execution_count": 14,
     "metadata": {},
     "output_type": "execute_result"
    }
   ],
   "source": [
    "df_meet.shape"
   ]
  },
  {
   "cell_type": "code",
   "execution_count": 15,
   "metadata": {},
   "outputs": [],
   "source": [
    "#make a list of the meet urls\n",
    "meetURLS = df_meet['meet_url'].tolist()"
   ]
  },
  {
   "cell_type": "code",
   "execution_count": null,
   "metadata": {},
   "outputs": [],
   "source": [
    "#change the logging level\n",
    "#logging.getLogger().setLevel(logging.DEBUG)"
   ]
  },
  {
   "cell_type": "code",
   "execution_count": 16,
   "metadata": {},
   "outputs": [],
   "source": [
    "def getTeamList(meet_url):\n",
    "    \n",
    "    logging.debug(meet_url)\n",
    "    sleepTime = randint(10,14)\n",
    "    logging.debug(\"sleep time is %i seconds\", sleepTime)\n",
    "    time.sleep(sleepTime)\n",
    "    response=requests.get(meet_url)\n",
    "    logging.debug('%s', response.url)\n",
    "        \n",
    "    #parse the swim club list page\n",
    "    #use Beautiful Soup to parse the returned page\n",
    "    clubList_resp = BeautifulSoup(response.text, 'lxml')\n",
    "\n",
    "    rtnList = []\n",
    "    for item in clubList_resp.find_all('option'):\n",
    "        temp_dict = {}\n",
    "        if \"Events\" in item.contents[0]:\n",
    "            logging.debug(\"Did I get here?\")\n",
    "            break\n",
    "        elif \"Participants\" not in item.contents[0]:\n",
    "            try:\n",
    "                temp_dict['club_res_url'] = item.attrs['data-href']\n",
    "            except:\n",
    "                temp_dict['club_res_url'] = None\n",
    "            try:\n",
    "                temp_dict['club_number'] = item.attrs['value']\n",
    "            except:\n",
    "                temp_dict['club_number'] = None\n",
    "            try:\n",
    "                temp_dict['club_name'] = item.contents[0]\n",
    "            except:\n",
    "                temp_dict['club_name'] = None\n",
    "            rtnList.append(temp_dict)\n",
    "\n",
    "    return rtnList"
   ]
  },
  {
   "cell_type": "code",
   "execution_count": 21,
   "metadata": {},
   "outputs": [
    {
     "name": "stderr",
     "output_type": "stream",
     "text": [
      "INFO:root:meet URL https://www.swimming.ca/en/meet/19641\n",
      "INFO:root:meet URL https://www.swimming.ca/en/meet/20064\n",
      "INFO:root:meet URL https://www.swimming.ca/en/meet/20343\n",
      "INFO:root:meet URL https://www.swimming.ca/en/meet/19959\n",
      "INFO:root:meet URL https://www.swimming.ca/en/meet/20246\n",
      "INFO:root:meet URL https://www.swimming.ca/en/meet/20354\n",
      "INFO:root:meet URL https://www.swimming.ca/en/meet/20361\n",
      "INFO:root:meet URL https://www.swimming.ca/en/meet/20159\n",
      "INFO:root:meet URL https://www.swimming.ca/en/meet/19960\n",
      "INFO:root:meet URL https://www.swimming.ca/en/meet/19961\n",
      "INFO:root:meet URL https://www.swimming.ca/en/meet/20067\n",
      "INFO:root:meet URL https://www.swimming.ca/en/meet/20633\n",
      "INFO:root:meet URL https://www.swimming.ca/en/meet/19962\n",
      "INFO:root:meet URL https://www.swimming.ca/en/meet/20517\n",
      "INFO:root:meet URL https://www.swimming.ca/en/meet/20787\n",
      "INFO:root:meet URL https://www.swimming.ca/en/meet/20385\n",
      "INFO:root:meet URL https://www.swimming.ca/en/meet/20757\n",
      "INFO:root:meet URL https://www.swimming.ca/en/meet/19963\n",
      "INFO:root:meet URL https://www.swimming.ca/en/meet/20841\n",
      "INFO:root:meet URL https://www.swimming.ca/en/meet/20788\n",
      "INFO:root:meet URL https://www.swimming.ca/en/meet/19914\n",
      "INFO:root:meet URL https://www.swimming.ca/en/meet/19964\n",
      "INFO:root:meet URL https://www.swimming.ca/en/meet/20741\n",
      "INFO:root:meet URL https://www.swimming.ca/en/meet/19951\n",
      "INFO:root:meet URL https://www.swimming.ca/en/meet/20561\n",
      "INFO:root:meet URL https://www.swimming.ca/en/meet/20824\n",
      "INFO:root:meet URL https://www.swimming.ca/en/meet/21003\n",
      "INFO:root:meet URL https://www.swimming.ca/en/meet/20071\n",
      "INFO:root:meet URL https://www.swimming.ca/en/meet/19821\n",
      "INFO:root:meet URL https://www.swimming.ca/en/meet/21064\n",
      "INFO:root:meet URL https://www.swimming.ca/en/meet/21083\n",
      "INFO:root:meet URL https://www.swimming.ca/en/meet/21173\n",
      "INFO:root:meet URL https://www.swimming.ca/en/meet/19898\n"
     ]
    }
   ],
   "source": [
    "clubListFn = []\n",
    "\n",
    "for meet in meetURLS:\n",
    "    logging.info(\"meet URL %s\", meet)\n",
    "    tempList = getTeamList(meet)\n",
    "    for item in tempList:\n",
    "        clubListFn.append(item)\n"
   ]
  },
  {
   "cell_type": "code",
   "execution_count": 22,
   "metadata": {},
   "outputs": [
    {
     "data": {
      "text/html": [
       "<div>\n",
       "<style scoped>\n",
       "    .dataframe tbody tr th:only-of-type {\n",
       "        vertical-align: middle;\n",
       "    }\n",
       "\n",
       "    .dataframe tbody tr th {\n",
       "        vertical-align: top;\n",
       "    }\n",
       "\n",
       "    .dataframe thead th {\n",
       "        text-align: right;\n",
       "    }\n",
       "</style>\n",
       "<table border=\"1\" class=\"dataframe\">\n",
       "  <thead>\n",
       "    <tr style=\"text-align: right;\">\n",
       "      <th></th>\n",
       "      <th>club_name</th>\n",
       "      <th>club_number</th>\n",
       "      <th>club_res_url</th>\n",
       "    </tr>\n",
       "  </thead>\n",
       "  <tbody>\n",
       "    <tr>\n",
       "      <th>0</th>\n",
       "      <td>Saskatoon Goldfins Swim Club</td>\n",
       "      <td>74044</td>\n",
       "      <td>https://www.swimming.ca/en/meet/597428/?factio...</td>\n",
       "    </tr>\n",
       "    <tr>\n",
       "      <th>1</th>\n",
       "      <td>Regina Masters Swim Club</td>\n",
       "      <td>76612</td>\n",
       "      <td>https://www.swimming.ca/en/meet/597428/?factio...</td>\n",
       "    </tr>\n",
       "    <tr>\n",
       "      <th>2</th>\n",
       "      <td>Prince Albert Masters</td>\n",
       "      <td>81908</td>\n",
       "      <td>https://www.swimming.ca/en/meet/597428/?factio...</td>\n",
       "    </tr>\n",
       "    <tr>\n",
       "      <th>3</th>\n",
       "      <td>Edmonton Masters Swim Club</td>\n",
       "      <td>73928</td>\n",
       "      <td>https://www.swimming.ca/en/meet/598224/?factio...</td>\n",
       "    </tr>\n",
       "    <tr>\n",
       "      <th>4</th>\n",
       "      <td>Wild Rose Swim Club</td>\n",
       "      <td>88757</td>\n",
       "      <td>https://www.swimming.ca/en/meet/598224/?factio...</td>\n",
       "    </tr>\n",
       "  </tbody>\n",
       "</table>\n",
       "</div>"
      ],
      "text/plain": [
       "                      club_name club_number  \\\n",
       "0  Saskatoon Goldfins Swim Club       74044   \n",
       "1      Regina Masters Swim Club       76612   \n",
       "2         Prince Albert Masters       81908   \n",
       "3    Edmonton Masters Swim Club       73928   \n",
       "4           Wild Rose Swim Club       88757   \n",
       "\n",
       "                                        club_res_url  \n",
       "0  https://www.swimming.ca/en/meet/597428/?factio...  \n",
       "1  https://www.swimming.ca/en/meet/597428/?factio...  \n",
       "2  https://www.swimming.ca/en/meet/597428/?factio...  \n",
       "3  https://www.swimming.ca/en/meet/598224/?factio...  \n",
       "4  https://www.swimming.ca/en/meet/598224/?factio...  "
      ]
     },
     "execution_count": 22,
     "metadata": {},
     "output_type": "execute_result"
    }
   ],
   "source": [
    "#create a dataframe and write the dataframe to a csv\n",
    "club_df = pd.DataFrame(clubListFn)\n",
    "club_df.head()"
   ]
  },
  {
   "cell_type": "code",
   "execution_count": 23,
   "metadata": {},
   "outputs": [],
   "source": [
    "#club_df.to_csv('clubs_2018_2019.csv', index=False)\n",
    "club_df.to_csv(season_dict['club_file'], index=False)"
   ]
  },
  {
   "cell_type": "markdown",
   "metadata": {},
   "source": [
    "## Get swimmer info\n",
    "\n",
    "The next section will get the results for each swimmer on a team and write the results to a csv"
   ]
  },
  {
   "cell_type": "code",
   "execution_count": 5,
   "metadata": {},
   "outputs": [
    {
     "data": {
      "text/plain": [
       "{'season': '17',\n",
       " 'meet_file': 'meets_2016_2017.csv',\n",
       " 'club_file': 'clubs_2016_2017.csv',\n",
       " 'swims_file': 'swims_2016_2017.csv'}"
      ]
     },
     "execution_count": 5,
     "metadata": {},
     "output_type": "execute_result"
    }
   ],
   "source": [
    "season_dict"
   ]
  },
  {
   "cell_type": "code",
   "execution_count": 6,
   "metadata": {},
   "outputs": [],
   "source": [
    "#get the csv containing the club links\n",
    "swims_df = pd.read_csv(season_dict['club_file'])"
   ]
  },
  {
   "cell_type": "code",
   "execution_count": 7,
   "metadata": {},
   "outputs": [
    {
     "data": {
      "text/plain": [
       "(521, 3)"
      ]
     },
     "execution_count": 7,
     "metadata": {},
     "output_type": "execute_result"
    }
   ],
   "source": [
    "swims_df.shape"
   ]
  },
  {
   "cell_type": "code",
   "execution_count": 8,
   "metadata": {},
   "outputs": [
    {
     "data": {
      "text/html": [
       "<div>\n",
       "<style scoped>\n",
       "    .dataframe tbody tr th:only-of-type {\n",
       "        vertical-align: middle;\n",
       "    }\n",
       "\n",
       "    .dataframe tbody tr th {\n",
       "        vertical-align: top;\n",
       "    }\n",
       "\n",
       "    .dataframe thead th {\n",
       "        text-align: right;\n",
       "    }\n",
       "</style>\n",
       "<table border=\"1\" class=\"dataframe\">\n",
       "  <thead>\n",
       "    <tr style=\"text-align: right;\">\n",
       "      <th></th>\n",
       "      <th>club_name</th>\n",
       "      <th>club_number</th>\n",
       "      <th>club_res_url</th>\n",
       "    </tr>\n",
       "  </thead>\n",
       "  <tbody>\n",
       "    <tr>\n",
       "      <th>0</th>\n",
       "      <td>Saskatoon Goldfins Swim Club</td>\n",
       "      <td>74044.0</td>\n",
       "      <td>https://www.swimming.ca/en/meet/597428/?factio...</td>\n",
       "    </tr>\n",
       "    <tr>\n",
       "      <th>1</th>\n",
       "      <td>Regina Masters Swim Club</td>\n",
       "      <td>76612.0</td>\n",
       "      <td>https://www.swimming.ca/en/meet/597428/?factio...</td>\n",
       "    </tr>\n",
       "    <tr>\n",
       "      <th>2</th>\n",
       "      <td>Prince Albert Masters</td>\n",
       "      <td>81908.0</td>\n",
       "      <td>https://www.swimming.ca/en/meet/597428/?factio...</td>\n",
       "    </tr>\n",
       "    <tr>\n",
       "      <th>3</th>\n",
       "      <td>Edmonton Masters Swim Club</td>\n",
       "      <td>73928.0</td>\n",
       "      <td>https://www.swimming.ca/en/meet/598224/?factio...</td>\n",
       "    </tr>\n",
       "    <tr>\n",
       "      <th>4</th>\n",
       "      <td>Wild Rose Swim Club</td>\n",
       "      <td>88757.0</td>\n",
       "      <td>https://www.swimming.ca/en/meet/598224/?factio...</td>\n",
       "    </tr>\n",
       "  </tbody>\n",
       "</table>\n",
       "</div>"
      ],
      "text/plain": [
       "                      club_name  club_number  \\\n",
       "0  Saskatoon Goldfins Swim Club      74044.0   \n",
       "1      Regina Masters Swim Club      76612.0   \n",
       "2         Prince Albert Masters      81908.0   \n",
       "3    Edmonton Masters Swim Club      73928.0   \n",
       "4           Wild Rose Swim Club      88757.0   \n",
       "\n",
       "                                        club_res_url  \n",
       "0  https://www.swimming.ca/en/meet/597428/?factio...  \n",
       "1  https://www.swimming.ca/en/meet/597428/?factio...  \n",
       "2  https://www.swimming.ca/en/meet/597428/?factio...  \n",
       "3  https://www.swimming.ca/en/meet/598224/?factio...  \n",
       "4  https://www.swimming.ca/en/meet/598224/?factio...  "
      ]
     },
     "execution_count": 8,
     "metadata": {},
     "output_type": "execute_result"
    }
   ],
   "source": [
    "swims_df.head()"
   ]
  },
  {
   "cell_type": "code",
   "execution_count": 9,
   "metadata": {},
   "outputs": [
    {
     "data": {
      "text/plain": [
       "137"
      ]
     },
     "execution_count": 9,
     "metadata": {},
     "output_type": "execute_result"
    }
   ],
   "source": [
    "len(swims_df['club_name'].unique())"
   ]
  },
  {
   "cell_type": "code",
   "execution_count": 10,
   "metadata": {},
   "outputs": [],
   "source": [
    "#make a list of urls for the results from each club\n",
    "clubURLS = swims_df['club_res_url'].tolist()"
   ]
  },
  {
   "cell_type": "code",
   "execution_count": 11,
   "metadata": {},
   "outputs": [
    {
     "data": {
      "text/plain": [
       "521"
      ]
     },
     "execution_count": 11,
     "metadata": {},
     "output_type": "execute_result"
    }
   ],
   "source": [
    "len(clubURLS)"
   ]
  },
  {
   "cell_type": "code",
   "execution_count": null,
   "metadata": {},
   "outputs": [],
   "source": [
    "r3_url = clubList[0]['club_res_url']\n",
    "r3 = requests.get(r3_url)\n",
    "temp_r3 = BeautifulSoup(r3.text, 'lxml')"
   ]
  },
  {
   "cell_type": "code",
   "execution_count": null,
   "metadata": {},
   "outputs": [],
   "source": [
    "temp_table = temp_r3.find_all(\"table\")\n",
    "len(temp_table)"
   ]
  },
  {
   "cell_type": "code",
   "execution_count": 12,
   "metadata": {},
   "outputs": [],
   "source": [
    "#todo: use this method with the previously define method rather than having the code repeated multiple times\n",
    "def scrapePage(url):\n",
    "    #get the page with the results for the club\n",
    "    logging.debug(url)\n",
    "    sleepTime = randint(10,14)\n",
    "    logging.debug(\"sleep time is %i seconds\", sleepTime)\n",
    "    time.sleep(sleepTime)\n",
    "    response=requests.get(url)\n",
    "    logging.debug('%s', response.url)\n",
    "    \n",
    "    #use Beautiful Soup to parse the returned page\n",
    "    resp = BeautifulSoup(response.text, 'lxml')\n",
    "    \n",
    "    #return the page\n",
    "    return resp"
   ]
  },
  {
   "cell_type": "code",
   "execution_count": 13,
   "metadata": {},
   "outputs": [],
   "source": [
    "def parseSwimmerInfo(tableRow):\n",
    "    \n",
    "    #create return dictionary\n",
    "    sw_dict = {}\n",
    "    \n",
    "    #parse the row\n",
    "    try:\n",
    "        sw_dict['sw_url'] = tableRow.find('a').attrs['href']\n",
    "    except:\n",
    "        sw_dict['sw_url'] = None \n",
    "    try:\n",
    "        #sw_id = tableRow.find('a').attrs['href'].split('/')[5]\n",
    "        sw_dict['sw_id'] = tableRow.find('a').attrs['href'].split('/')[5]\n",
    "    except:\n",
    "        sw_dict['sw_id'] = None\n",
    "    try:\n",
    "        sw_dict['sw_name'] = tableRow.find('a').contents[0]\n",
    "    except:     \n",
    "        sw_dict['sw_name'] = None\n",
    "    try:\n",
    "        sw_dict['yob'] = tableRow.find('th').contents[1][3:7]\n",
    "    except:    \n",
    "        sw_dict['sw_yob'] = None\n",
    "        \n",
    "    #return the dictionary\n",
    "    return sw_dict\n",
    "        "
   ]
  },
  {
   "cell_type": "code",
   "execution_count": 14,
   "metadata": {},
   "outputs": [],
   "source": [
    "#for testing, I am going to get 2 pages - one with relays and one without to make sure I can handle either\n",
    "url_relays = 'https://www.swimming.ca/en/meet/598224/?faction=73928'\n",
    "url_no_relays = 'https://www.swimming.ca/en/meet/597428/?faction=74044'\n",
    "relay_pg = scrapePage(url_relays)\n",
    "no_relay_pg = scrapePage(url_no_relays)\n"
   ]
  },
  {
   "cell_type": "code",
   "execution_count": 18,
   "metadata": {},
   "outputs": [],
   "source": [
    "def parseRaceInfo(tableRow):\n",
    "    \n",
    "    #create return dictionary\n",
    "    rc_dict = {}\n",
    "    \n",
    "    #rc_dict['sw_id'] = sw_id\n",
    "    #rc_dict['sw_yob'] = sw_yob\n",
    "    try:\n",
    "        rc_dict['sw_gender'] = tableRow.contents[0].find('a').attrs['data-query-gender']\n",
    "    except:\n",
    "        rc_dict['sw_gender'] = None\n",
    "    try:\n",
    "        rc_dict['rc_dist_stroke'] = tableRow.contents[0].find('span').find('a').contents[0]\n",
    "    except:\n",
    "        rc_dict['rc_dist_stroke'] = None\n",
    "    try:\n",
    "        rc_dict['rc_round'] = tableRow.contents[1].contents[0]\n",
    "    except:\n",
    "        rc_dict['rc_round'] = None\n",
    "    try:\n",
    "        rc_dict['rc_time'] = tableRow.contents[3].contents[0]\n",
    "    except:\n",
    "        rc_dict['rc_time'] = None\n",
    "    \n",
    "    return rc_dict"
   ]
  },
  {
   "cell_type": "code",
   "execution_count": 15,
   "metadata": {},
   "outputs": [],
   "source": [
    "logging.getLogger().setLevel(logging.DEBUG)"
   ]
  },
  {
   "cell_type": "code",
   "execution_count": 59,
   "metadata": {},
   "outputs": [],
   "source": [
    "##### Remember to change this back to use the URL as input\n",
    "#def getRaceResults(club_url):\n",
    "def getRaceResults(raceList_resp):\n",
    "    \n",
    "    ##### Remember to uncomment this to scrape the page\n",
    "    #get the page with the results for the club\n",
    "    #raceList_resp = scrapePage(club_url)\n",
    "\n",
    "    #create a list of tables on the page\n",
    "    temp_table = raceList_resp.find_all('table')\n",
    "    logging.debug(\"number of tables %i\", len(temp_table))\n",
    "    \n",
    "    #create a gender table to use based on which table is being parsed\n",
    "    gender_dict = {0:\"male\", 1:\"female\", 2:\"relay\"}\n",
    "    \n",
    "    #create lists to hold swimmer and race info\n",
    "    swimmer_list = []\n",
    "    race_list = []\n",
    "    \n",
    "    #if 3 or more tables, there are results on the page\n",
    "    if len(temp_table) < 3:\n",
    "        logging.info(\"no results on the page\")\n",
    "        #add code to put all nulls in the return value\n",
    "    else:\n",
    "        for tt in range(len(temp_table)-2):\n",
    "            logging.debug(\"on table %i\", tt)\n",
    "            count = 0\n",
    "            \n",
    "            #get the gender based on which table is being parsed\n",
    "            sw_gender = gender_dict[tt]\n",
    "            for item in temp_table[tt].find_all('tr'):\n",
    "                temp_sw_dict = {}\n",
    "                temp_rc_dict = {}\n",
    "                if item.has_attr('class'):\n",
    "                    try:\n",
    "                        sw_id = item.find('a').attrs['href'].split('/')[5]\n",
    "                    except:\n",
    "                        sw_id = None\n",
    "                    try:\n",
    "                        sw_yob = item.find('th').contents[1][3:7]\n",
    "                    except:\n",
    "                        sw_yob = None\n",
    "                    try:\n",
    "                        temp_sw_dict['sw_url'] = item.find('a').attrs['href']\n",
    "                    except:\n",
    "                        temp_sw_dict['sw_url'] = None\n",
    "                    try:\n",
    "                        temp_sw_dict['sw_id'] = sw_id\n",
    "                    except:\n",
    "                        temp_sw_dict['sw_id'] = None\n",
    "                    try:\n",
    "                        temp_sw_dict['sw_name'] = item.find('a').contents[0]\n",
    "                    except:\n",
    "                        temp_sw_dict['sw_name'] = None\n",
    "                    try:\n",
    "                        temp_sw_dict['sw_yob'] = sw_yob\n",
    "                    except:\n",
    "                        temp_sw_dict['sw_yob'] = None\n",
    "                    try:\n",
    "                        temp_sw_dict['sw_gender'] = sw_gender\n",
    "                    except:\n",
    "                        temp_sw_dict['sw_gender'] = None\n",
    "                \n",
    "                    swimmer_list.append(temp_sw_dict)\n",
    "                    #print(\"row count\", count, \"length of info\", len(item), \"contents\", item)\n",
    "                    #print(\"swimmer url\", item.find('a').attrs['href'])\n",
    "                    #print(\"swimmer id\", item.find('a').attrs['href'].split('/')[5])\n",
    "                    #print(\"swimmer name\", item.find('a').contents[0])\n",
    "                    #print(\"swimmer YOB\", item.find('th').contents[1][3:7])\n",
    "                elif count != 0:\n",
    "                    try:\n",
    "                        temp_rc_dict['sw_id'] = sw_id\n",
    "                    except:\n",
    "                        temp_rc_dict['sw_id'] = None\n",
    "                    try:\n",
    "                        temp_rc_dict['sw_yob'] = sw_yob\n",
    "                    except:\n",
    "                        temp_rc_dict['sw_yob'] = None\n",
    "                   \n",
    "                    temp_rc_dict['sw_gender'] = sw_gender\n",
    "                    \n",
    "                    try:\n",
    "                        temp_rc_dict['rc_dist_stroke'] = item.contents[0].find('span').find('a').contents[0]\n",
    "                    except:\n",
    "                        temp_rc_dict['rc_dist_stroke'] = None\n",
    "                    try:\n",
    "                        temp_rc_dict['rc_round'] = item.contents[1].contents[0]\n",
    "                    except:\n",
    "                        temp_rc_dict['rc_round'] = None\n",
    "                    try:\n",
    "                        temp_rc_dict['rc_time'] = item.contents[3].contents[0]\n",
    "                    except:\n",
    "                        temp_rc_dict['rc_time'] = None\n",
    "                    race_list.append(temp_rc_dict)\n",
    "                    #print(\"gender\", item.contents[0].find('a').attrs['data-query-gender'])\n",
    "                    #print(\"race distance and stroke\", item.contents[0])\n",
    "                    #print(\"race distance and stroke\", item.contents[0].find('span').find('a').contents[0])\n",
    "                    #print(\"race round\", item.contents[1].contents[0])\n",
    "                    #print(\"race time\", item.contents[3].contents[0])\n",
    "                else:\n",
    "                    logging.debug(\"expect no information in this row\")\n",
    "                count += 1\n",
    "    return swimmer_list, race_list"
   ]
  },
  {
   "cell_type": "code",
   "execution_count": 60,
   "metadata": {},
   "outputs": [
    {
     "name": "stderr",
     "output_type": "stream",
     "text": [
      "DEBUG:root:number of tables 5\n",
      "DEBUG:root:on table 0\n",
      "DEBUG:root:expect no information in this row\n",
      "DEBUG:root:on table 1\n",
      "DEBUG:root:expect no information in this row\n",
      "DEBUG:root:on table 2\n",
      "DEBUG:root:expect no information in this row\n"
     ]
    }
   ],
   "source": [
    "sw_list, rc_list = getRaceResults(relay_pg)"
   ]
  },
  {
   "cell_type": "code",
   "execution_count": 61,
   "metadata": {},
   "outputs": [
    {
     "data": {
      "text/plain": [
       "38"
      ]
     },
     "execution_count": 61,
     "metadata": {},
     "output_type": "execute_result"
    }
   ],
   "source": [
    "len(sw_list)"
   ]
  },
  {
   "cell_type": "code",
   "execution_count": 67,
   "metadata": {},
   "outputs": [
    {
     "data": {
      "text/plain": [
       "{'sw_url': 'https://www.swimming.ca/en/swimmer/4892130/',\n",
       " 'sw_id': '4892130',\n",
       " 'sw_name': 'Benetreau, Pierre',\n",
       " 'sw_yob': '1981',\n",
       " 'sw_gender': 'male'}"
      ]
     },
     "execution_count": 67,
     "metadata": {},
     "output_type": "execute_result"
    }
   ],
   "source": [
    "sw_list[0]"
   ]
  },
  {
   "cell_type": "code",
   "execution_count": 65,
   "metadata": {},
   "outputs": [
    {
     "data": {
      "text/plain": [
       "170"
      ]
     },
     "execution_count": 65,
     "metadata": {},
     "output_type": "execute_result"
    }
   ],
   "source": [
    "len(rc_list)"
   ]
  },
  {
   "cell_type": "code",
   "execution_count": 66,
   "metadata": {},
   "outputs": [
    {
     "data": {
      "text/plain": [
       "{'sw_id': '4892130',\n",
       " 'sw_yob': '1981',\n",
       " 'sw_gender': 'male',\n",
       " 'rc_dist_stroke': '50m Freestyle',\n",
       " 'rc_round': 'Final',\n",
       " 'rc_time': '30.27'}"
      ]
     },
     "execution_count": 66,
     "metadata": {},
     "output_type": "execute_result"
    }
   ],
   "source": [
    "rc_list[0]"
   ]
  },
  {
   "cell_type": "code",
   "execution_count": 40,
   "metadata": {},
   "outputs": [
    {
     "name": "stderr",
     "output_type": "stream",
     "text": [
      "DEBUG:root:number of tables 4\n",
      "DEBUG:root:expect no information in this row\n",
      "DEBUG:root:expect no information in this row\n"
     ]
    },
    {
     "name": "stdout",
     "output_type": "stream",
     "text": [
      "row count 1 length of info 1 contents <tr class=\"row-heading\"><th class=\"tl tc\" colspan=\"6\"><a href=\"https://www.swimming.ca/en/swimmer/5157731/\">Chapman, Blair</a> — 1967</th></tr>\n",
      "swimmer url https://www.swimming.ca/en/swimmer/5157731/\n",
      "swimmer id 5157731\n",
      "swimmer name Chapman, Blair\n",
      "swimmer YOB 1967\n",
      "gender X\n",
      "race distance and stroke <td class=\"tc\"><span class=\"truncate\"><a data-query-gender=\"X\" data-query-style=\"Style-1\" data-result-type=\"ranking\" href=\"https://www.swimming.ca/en/meet/597428/?gender=X&amp;competition=Style-1\" itemprop=\"url\">50m Freestyle</a></span></td>\n",
      "race distance and stroke 50m Freestyle\n",
      "race round Final\n",
      "race time 29.03\n",
      "gender X\n",
      "race distance and stroke <td class=\"tc\"><span class=\"truncate\"><a data-query-gender=\"X\" data-query-style=\"Style-3\" data-result-type=\"ranking\" href=\"https://www.swimming.ca/en/meet/597428/?gender=X&amp;competition=Style-3\" itemprop=\"url\">200m Freestyle</a></span></td>\n",
      "race distance and stroke 200m Freestyle\n",
      "race round Final\n",
      "race time 2:26.41\n",
      "gender X\n",
      "race distance and stroke <td class=\"tc\"><span class=\"truncate\"><a data-query-gender=\"X\" data-query-style=\"Style-12\" data-result-type=\"ranking\" href=\"https://www.swimming.ca/en/meet/597428/?gender=X&amp;competition=Style-12\" itemprop=\"url\">50m Breaststroke</a></span></td>\n",
      "race distance and stroke 50m Breaststroke\n",
      "race round Final\n",
      "race time 41.28\n",
      "gender X\n",
      "race distance and stroke <td class=\"tc\"><span class=\"truncate\"><a data-query-gender=\"X\" data-query-style=\"Style-20\" data-result-type=\"ranking\" href=\"https://www.swimming.ca/en/meet/597428/?gender=X&amp;competition=Style-20\" itemprop=\"url\">100m Medley</a></span></td>\n",
      "race distance and stroke 100m Medley\n",
      "race round Final\n",
      "race time 1:18.58\n",
      "row count 6 length of info 1 contents <tr class=\"row-heading\"><th class=\"tl tc\" colspan=\"6\"><a href=\"https://www.swimming.ca/en/swimmer/4123060/\">Kilduff, Connor</a> — 1994</th></tr>\n",
      "swimmer url https://www.swimming.ca/en/swimmer/4123060/\n",
      "swimmer id 4123060\n",
      "swimmer name Kilduff, Connor\n",
      "swimmer YOB 1994\n",
      "gender X\n",
      "race distance and stroke <td class=\"tc\"><span class=\"truncate\"><a data-query-gender=\"X\" data-query-style=\"Style-1\" data-result-type=\"ranking\" href=\"https://www.swimming.ca/en/meet/597428/?gender=X&amp;competition=Style-1\" itemprop=\"url\">50m Freestyle</a></span></td>\n",
      "race distance and stroke 50m Freestyle\n",
      "race round Final\n",
      "race time 25.97\n",
      "gender X\n",
      "race distance and stroke <td class=\"tc\"><span class=\"truncate\"><a data-query-gender=\"X\" data-query-style=\"Style-9\" data-result-type=\"ranking\" href=\"https://www.swimming.ca/en/meet/597428/?gender=X&amp;competition=Style-9\" itemprop=\"url\">50m Backstroke</a></span></td>\n",
      "race distance and stroke 50m Backstroke\n",
      "race round Final\n",
      "race time 30.63\n",
      "gender X\n",
      "race distance and stroke <td class=\"tc\"><span class=\"truncate\"><a data-query-gender=\"X\" data-query-style=\"Style-20\" data-result-type=\"ranking\" href=\"https://www.swimming.ca/en/meet/597428/?gender=X&amp;competition=Style-20\" itemprop=\"url\">100m Medley</a></span></td>\n",
      "race distance and stroke 100m Medley\n",
      "race round Final\n",
      "race time 1:07.24\n",
      "row count 10 length of info 1 contents <tr class=\"row-heading\"><th class=\"tl tc\" colspan=\"6\"><a href=\"https://www.swimming.ca/en/swimmer/4487052/\">Leier, Brian</a> — 1958</th></tr>\n",
      "swimmer url https://www.swimming.ca/en/swimmer/4487052/\n",
      "swimmer id 4487052\n",
      "swimmer name Leier, Brian\n",
      "swimmer YOB 1958\n",
      "gender X\n",
      "race distance and stroke <td class=\"tc\"><span class=\"truncate\"><a data-query-gender=\"X\" data-query-style=\"Style-1\" data-result-type=\"ranking\" href=\"https://www.swimming.ca/en/meet/597428/?gender=X&amp;competition=Style-1\" itemprop=\"url\">50m Freestyle</a></span></td>\n",
      "race distance and stroke 50m Freestyle\n",
      "race round Final\n",
      "race time 29.67\n",
      "gender X\n",
      "race distance and stroke <td class=\"tc\"><span class=\"truncate\"><a data-query-gender=\"X\" data-query-style=\"Style-3\" data-result-type=\"ranking\" href=\"https://www.swimming.ca/en/meet/597428/?gender=X&amp;competition=Style-3\" itemprop=\"url\">200m Freestyle</a></span></td>\n",
      "race distance and stroke 200m Freestyle\n",
      "race round Final\n",
      "race time 2:28.73\n",
      "gender X\n",
      "race distance and stroke <td class=\"tc\"><span class=\"truncate\"><a data-query-gender=\"X\" data-query-style=\"Style-15\" data-result-type=\"ranking\" href=\"https://www.swimming.ca/en/meet/597428/?gender=X&amp;competition=Style-15\" itemprop=\"url\">50m Butterfly</a></span></td>\n",
      "race distance and stroke 50m Butterfly\n",
      "race round Final\n",
      "race time 34.41\n",
      "gender X\n",
      "race distance and stroke <td class=\"tc\"><span class=\"truncate\"><a data-query-gender=\"X\" data-query-style=\"Style-20\" data-result-type=\"ranking\" href=\"https://www.swimming.ca/en/meet/597428/?gender=X&amp;competition=Style-20\" itemprop=\"url\">100m Medley</a></span></td>\n",
      "race distance and stroke 100m Medley\n",
      "race round Final\n",
      "race time 1:23.17\n",
      "row count 15 length of info 1 contents <tr class=\"row-heading\"><th class=\"tl tc\" colspan=\"6\"><a href=\"https://www.swimming.ca/en/swimmer/4904095/\">Long, Alan</a> — 1967</th></tr>\n",
      "swimmer url https://www.swimming.ca/en/swimmer/4904095/\n",
      "swimmer id 4904095\n",
      "swimmer name Long, Alan\n",
      "swimmer YOB 1967\n",
      "gender X\n",
      "race distance and stroke <td class=\"tc\"><span class=\"truncate\"><a data-query-gender=\"X\" data-query-style=\"Style-1\" data-result-type=\"ranking\" href=\"https://www.swimming.ca/en/meet/597428/?gender=X&amp;competition=Style-1\" itemprop=\"url\">50m Freestyle</a></span></td>\n",
      "race distance and stroke 50m Freestyle\n",
      "race round Final\n",
      "race time 34.15\n",
      "gender X\n",
      "race distance and stroke <td class=\"tc\"><span class=\"truncate\"><a data-query-gender=\"X\" data-query-style=\"Style-3\" data-result-type=\"ranking\" href=\"https://www.swimming.ca/en/meet/597428/?gender=X&amp;competition=Style-3\" itemprop=\"url\">200m Freestyle</a></span></td>\n",
      "race distance and stroke 200m Freestyle\n",
      "race round Final\n",
      "race time 2:51.34\n",
      "gender X\n",
      "race distance and stroke <td class=\"tc\"><span class=\"truncate\"><a data-query-gender=\"X\" data-query-style=\"Style-15\" data-result-type=\"ranking\" href=\"https://www.swimming.ca/en/meet/597428/?gender=X&amp;competition=Style-15\" itemprop=\"url\">50m Butterfly</a></span></td>\n",
      "race distance and stroke 50m Butterfly\n",
      "race round Final\n",
      "race time 43.59\n",
      "row count 19 length of info 1 contents <tr class=\"row-heading\"><th class=\"tl tc\" colspan=\"6\"><a href=\"https://www.swimming.ca/en/swimmer/5143753/\">Ogaick, Maurice</a> — 1981</th></tr>\n",
      "swimmer url https://www.swimming.ca/en/swimmer/5143753/\n",
      "swimmer id 5143753\n",
      "swimmer name Ogaick, Maurice\n",
      "swimmer YOB 1981\n",
      "gender X\n",
      "race distance and stroke <td class=\"tc\"><span class=\"truncate\"><a data-query-gender=\"X\" data-query-style=\"Style-12\" data-result-type=\"ranking\" href=\"https://www.swimming.ca/en/meet/597428/?gender=X&amp;competition=Style-12\" itemprop=\"url\">50m Breaststroke</a></span></td>\n",
      "race distance and stroke 50m Breaststroke\n",
      "race round Final\n",
      "race time 35.34\n",
      "gender X\n",
      "race distance and stroke <td class=\"tc\"><span class=\"truncate\"><a data-query-gender=\"X\" data-query-style=\"Style-20\" data-result-type=\"ranking\" href=\"https://www.swimming.ca/en/meet/597428/?gender=X&amp;competition=Style-20\" itemprop=\"url\">100m Medley</a></span></td>\n",
      "race distance and stroke 100m Medley\n",
      "race round Final\n",
      "race time 1:10.42\n",
      "row count 22 length of info 1 contents <tr class=\"row-heading\"><th class=\"tl tc\" colspan=\"6\"><a href=\"https://www.swimming.ca/en/swimmer/4031887/\">Siewert, Jonathan</a> — 1990</th></tr>\n",
      "swimmer url https://www.swimming.ca/en/swimmer/4031887/\n",
      "swimmer id 4031887\n",
      "swimmer name Siewert, Jonathan\n",
      "swimmer YOB 1990\n",
      "gender X\n",
      "race distance and stroke <td class=\"tc\"><span class=\"truncate\"><a data-query-gender=\"X\" data-query-style=\"Style-1\" data-result-type=\"ranking\" href=\"https://www.swimming.ca/en/meet/597428/?gender=X&amp;competition=Style-1\" itemprop=\"url\">50m Freestyle</a></span></td>\n",
      "race distance and stroke 50m Freestyle\n",
      "race round Final\n",
      "race time 25.54\n",
      "gender X\n",
      "race distance and stroke <td class=\"tc\"><span class=\"truncate\"><a data-query-gender=\"X\" data-query-style=\"Style-15\" data-result-type=\"ranking\" href=\"https://www.swimming.ca/en/meet/597428/?gender=X&amp;competition=Style-15\" itemprop=\"url\">50m Butterfly</a></span></td>\n",
      "race distance and stroke 50m Butterfly\n",
      "race round Final\n",
      "race time 28.36\n",
      "gender X\n",
      "race distance and stroke <td class=\"tc\"><span class=\"truncate\"><a data-query-gender=\"X\" data-query-style=\"Style-20\" data-result-type=\"ranking\" href=\"https://www.swimming.ca/en/meet/597428/?gender=X&amp;competition=Style-20\" itemprop=\"url\">100m Medley</a></span></td>\n",
      "race distance and stroke 100m Medley\n",
      "race round Final\n",
      "race time 1:05.17\n",
      "row count 26 length of info 1 contents <tr class=\"row-heading\"><th class=\"tl tc\" colspan=\"6\"><a href=\"https://www.swimming.ca/en/swimmer/4039781/\">Smela, Chris</a> — 1981</th></tr>\n",
      "swimmer url https://www.swimming.ca/en/swimmer/4039781/\n",
      "swimmer id 4039781\n",
      "swimmer name Smela, Chris\n",
      "swimmer YOB 1981\n",
      "gender X\n",
      "race distance and stroke <td class=\"tc\"><span class=\"truncate\"><a data-query-gender=\"X\" data-query-style=\"Style-15\" data-result-type=\"ranking\" href=\"https://www.swimming.ca/en/meet/597428/?gender=X&amp;competition=Style-15\" itemprop=\"url\">50m Butterfly</a></span></td>\n",
      "race distance and stroke 50m Butterfly\n",
      "race round Final\n",
      "race time 29.56\n",
      "gender X\n",
      "race distance and stroke <td class=\"tc\"><span class=\"truncate\"><a data-query-gender=\"X\" data-query-style=\"Style-20\" data-result-type=\"ranking\" href=\"https://www.swimming.ca/en/meet/597428/?gender=X&amp;competition=Style-20\" itemprop=\"url\">100m Medley</a></span></td>\n",
      "race distance and stroke 100m Medley\n",
      "race round Final\n",
      "race time 1:11.43\n",
      "row count 29 length of info 1 contents <tr class=\"row-heading\"><th class=\"tl tc\" colspan=\"6\"><a href=\"https://www.swimming.ca/en/swimmer/4033058/\">Traves, Thomas</a> — 1989</th></tr>\n",
      "swimmer url https://www.swimming.ca/en/swimmer/4033058/\n",
      "swimmer id 4033058\n",
      "swimmer name Traves, Thomas\n",
      "swimmer YOB 1989\n",
      "gender X\n",
      "race distance and stroke <td class=\"tc\"><span class=\"truncate\"><a data-query-gender=\"X\" data-query-style=\"Style-1\" data-result-type=\"ranking\" href=\"https://www.swimming.ca/en/meet/597428/?gender=X&amp;competition=Style-1\" itemprop=\"url\">50m Freestyle</a></span></td>\n",
      "race distance and stroke 50m Freestyle\n",
      "race round Final\n",
      "race time 30.31\n",
      "gender X\n",
      "race distance and stroke <td class=\"tc\"><span class=\"truncate\"><a data-query-gender=\"X\" data-query-style=\"Style-3\" data-result-type=\"ranking\" href=\"https://www.swimming.ca/en/meet/597428/?gender=X&amp;competition=Style-3\" itemprop=\"url\">200m Freestyle</a></span></td>\n",
      "race distance and stroke 200m Freestyle\n",
      "race round Final\n",
      "race time 2:28.81\n",
      "gender X\n",
      "race distance and stroke <td class=\"tc\"><span class=\"truncate\"><a data-query-gender=\"X\" data-query-style=\"Style-9\" data-result-type=\"ranking\" href=\"https://www.swimming.ca/en/meet/597428/?gender=X&amp;competition=Style-9\" itemprop=\"url\">50m Backstroke</a></span></td>\n",
      "race distance and stroke 50m Backstroke\n",
      "race round Final\n",
      "race time 36.25\n",
      "gender X\n",
      "race distance and stroke <td class=\"tc\"><span class=\"truncate\"><a data-query-gender=\"X\" data-query-style=\"Style-12\" data-result-type=\"ranking\" href=\"https://www.swimming.ca/en/meet/597428/?gender=X&amp;competition=Style-12\" itemprop=\"url\">50m Breaststroke</a></span></td>\n",
      "race distance and stroke 50m Breaststroke\n",
      "race round Final\n",
      "race time 38.77\n",
      "gender X\n",
      "race distance and stroke <td class=\"tc\"><span class=\"truncate\"><a data-query-gender=\"X\" data-query-style=\"Style-15\" data-result-type=\"ranking\" href=\"https://www.swimming.ca/en/meet/597428/?gender=X&amp;competition=Style-15\" itemprop=\"url\">50m Butterfly</a></span></td>\n",
      "race distance and stroke 50m Butterfly\n",
      "race round Final\n",
      "race time 32.33\n",
      "gender X\n",
      "race distance and stroke <td class=\"tc\"><span class=\"truncate\"><a data-query-gender=\"X\" data-query-style=\"Style-20\" data-result-type=\"ranking\" href=\"https://www.swimming.ca/en/meet/597428/?gender=X&amp;competition=Style-20\" itemprop=\"url\">100m Medley</a></span></td>\n",
      "race distance and stroke 100m Medley\n",
      "race round Final\n",
      "race time 1:16.47\n",
      "row count 36 length of info 1 contents <tr class=\"row-heading\"><th class=\"tl tc\" colspan=\"6\"><a href=\"https://www.swimming.ca/en/swimmer/5092838/\">Waterer, Carl</a> — 1950</th></tr>\n",
      "swimmer url https://www.swimming.ca/en/swimmer/5092838/\n",
      "swimmer id 5092838\n",
      "swimmer name Waterer, Carl\n",
      "swimmer YOB 1950\n",
      "gender X\n",
      "race distance and stroke <td class=\"tc\"><span class=\"truncate\"><a data-query-gender=\"X\" data-query-style=\"Style-1\" data-result-type=\"ranking\" href=\"https://www.swimming.ca/en/meet/597428/?gender=X&amp;competition=Style-1\" itemprop=\"url\">50m Freestyle</a></span></td>\n",
      "race distance and stroke 50m Freestyle\n",
      "race round Final\n",
      "race time 28.69\n",
      "row count 1 length of info 1 contents <tr class=\"row-heading\"><th class=\"tl tc\" colspan=\"6\"><a href=\"https://www.swimming.ca/en/swimmer/5155739/\">Hynes, Heather</a> — 1980</th></tr>\n",
      "swimmer url https://www.swimming.ca/en/swimmer/5155739/\n",
      "swimmer id 5155739\n",
      "swimmer name Hynes, Heather\n",
      "swimmer YOB 1980\n",
      "gender X\n",
      "race distance and stroke <td class=\"tc\"><span class=\"truncate\"><a data-query-gender=\"X\" data-query-style=\"Style-1\" data-result-type=\"ranking\" href=\"https://www.swimming.ca/en/meet/597428/?gender=X&amp;competition=Style-1\" itemprop=\"url\">50m Freestyle</a></span></td>\n",
      "race distance and stroke 50m Freestyle\n",
      "race round Final\n",
      "race time 30.55\n",
      "gender X\n",
      "race distance and stroke <td class=\"tc\"><span class=\"truncate\"><a data-query-gender=\"X\" data-query-style=\"Style-3\" data-result-type=\"ranking\" href=\"https://www.swimming.ca/en/meet/597428/?gender=X&amp;competition=Style-3\" itemprop=\"url\">200m Freestyle</a></span></td>\n",
      "race distance and stroke 200m Freestyle\n",
      "race round Final\n",
      "race time 2:27.10\n",
      "gender X\n",
      "race distance and stroke <td class=\"tc\"><span class=\"truncate\"><a data-query-gender=\"X\" data-query-style=\"Style-12\" data-result-type=\"ranking\" href=\"https://www.swimming.ca/en/meet/597428/?gender=X&amp;competition=Style-12\" itemprop=\"url\">50m Breaststroke</a></span></td>\n",
      "race distance and stroke 50m Breaststroke\n",
      "race round Final\n",
      "race time 39.65\n",
      "gender X\n",
      "race distance and stroke <td class=\"tc\"><span class=\"truncate\"><a data-query-gender=\"X\" data-query-style=\"Style-15\" data-result-type=\"ranking\" href=\"https://www.swimming.ca/en/meet/597428/?gender=X&amp;competition=Style-15\" itemprop=\"url\">50m Butterfly</a></span></td>\n",
      "race distance and stroke 50m Butterfly\n",
      "race round Final\n",
      "race time 34.28\n",
      "gender X\n",
      "race distance and stroke <td class=\"tc\"><span class=\"truncate\"><a data-query-gender=\"X\" data-query-style=\"Style-20\" data-result-type=\"ranking\" href=\"https://www.swimming.ca/en/meet/597428/?gender=X&amp;competition=Style-20\" itemprop=\"url\">100m Medley</a></span></td>\n",
      "race distance and stroke 100m Medley\n",
      "race round Final\n",
      "race time 1:17.16\n",
      "row count 7 length of info 1 contents <tr class=\"row-heading\"><th class=\"tl tc\" colspan=\"6\"><a href=\"https://www.swimming.ca/en/swimmer/4123059/\">Kilduff, Aidan</a> — 1992</th></tr>\n",
      "swimmer url https://www.swimming.ca/en/swimmer/4123059/\n",
      "swimmer id 4123059\n",
      "swimmer name Kilduff, Aidan\n",
      "swimmer YOB 1992\n",
      "gender X\n",
      "race distance and stroke <td class=\"tc\"><span class=\"truncate\"><a data-query-gender=\"X\" data-query-style=\"Style-12\" data-result-type=\"ranking\" href=\"https://www.swimming.ca/en/meet/597428/?gender=X&amp;competition=Style-12\" itemprop=\"url\">50m Breaststroke</a></span></td>\n",
      "race distance and stroke 50m Breaststroke\n",
      "race round Final\n",
      "race time 43.37\n",
      "gender X\n",
      "race distance and stroke <td class=\"tc\"><span class=\"truncate\"><a data-query-gender=\"X\" data-query-style=\"Style-20\" data-result-type=\"ranking\" href=\"https://www.swimming.ca/en/meet/597428/?gender=X&amp;competition=Style-20\" itemprop=\"url\">100m Medley</a></span></td>\n",
      "race distance and stroke 100m Medley\n",
      "race round Final\n",
      "race time 1:27.50\n",
      "row count 10 length of info 1 contents <tr class=\"row-heading\"><th class=\"tl tc\" colspan=\"6\"><a href=\"https://www.swimming.ca/en/swimmer/5181165/\">Kliem, Theresa</a> — 1986</th></tr>\n",
      "swimmer url https://www.swimming.ca/en/swimmer/5181165/\n",
      "swimmer id 5181165\n",
      "swimmer name Kliem, Theresa\n",
      "swimmer YOB 1986\n",
      "gender X\n",
      "race distance and stroke <td class=\"tc\"><span class=\"truncate\"><a data-query-gender=\"X\" data-query-style=\"Style-12\" data-result-type=\"ranking\" href=\"https://www.swimming.ca/en/meet/597428/?gender=X&amp;competition=Style-12\" itemprop=\"url\">50m Breaststroke</a></span></td>\n",
      "race distance and stroke 50m Breaststroke\n",
      "race round Final\n",
      "race time 38.60\n",
      "gender X\n",
      "race distance and stroke <td class=\"tc\"><span class=\"truncate\"><a data-query-gender=\"X\" data-query-style=\"Style-20\" data-result-type=\"ranking\" href=\"https://www.swimming.ca/en/meet/597428/?gender=X&amp;competition=Style-20\" itemprop=\"url\">100m Medley</a></span></td>\n",
      "race distance and stroke 100m Medley\n",
      "race round Final\n",
      "race time 1:16.59\n",
      "row count 13 length of info 1 contents <tr class=\"row-heading\"><th class=\"tl tc\" colspan=\"6\"><a href=\"https://www.swimming.ca/en/swimmer/5156019/\">Mann, Jaclyn</a> — 1982</th></tr>\n",
      "swimmer url https://www.swimming.ca/en/swimmer/5156019/\n",
      "swimmer id 5156019\n",
      "swimmer name Mann, Jaclyn\n",
      "swimmer YOB 1982\n",
      "gender X\n",
      "race distance and stroke <td class=\"tc\"><span class=\"truncate\"><a data-query-gender=\"X\" data-query-style=\"Style-9\" data-result-type=\"ranking\" href=\"https://www.swimming.ca/en/meet/597428/?gender=X&amp;competition=Style-9\" itemprop=\"url\">50m Backstroke</a></span></td>\n",
      "race distance and stroke 50m Backstroke\n",
      "race round Final\n",
      "race time 36.36\n",
      "gender X\n",
      "race distance and stroke <td class=\"tc\"><span class=\"truncate\"><a data-query-gender=\"X\" data-query-style=\"Style-12\" data-result-type=\"ranking\" href=\"https://www.swimming.ca/en/meet/597428/?gender=X&amp;competition=Style-12\" itemprop=\"url\">50m Breaststroke</a></span></td>\n",
      "race distance and stroke 50m Breaststroke\n",
      "race round Final\n",
      "race time 38.00\n",
      "gender X\n",
      "race distance and stroke <td class=\"tc\"><span class=\"truncate\"><a data-query-gender=\"X\" data-query-style=\"Style-20\" data-result-type=\"ranking\" href=\"https://www.swimming.ca/en/meet/597428/?gender=X&amp;competition=Style-20\" itemprop=\"url\">100m Medley</a></span></td>\n",
      "race distance and stroke 100m Medley\n",
      "race round Final\n",
      "race time 1:18.58\n",
      "row count 17 length of info 1 contents <tr class=\"row-heading\"><th class=\"tl tc\" colspan=\"6\"><a href=\"https://www.swimming.ca/en/swimmer/4058756/\">Reichert, Tara</a> — 1981</th></tr>\n",
      "swimmer url https://www.swimming.ca/en/swimmer/4058756/\n",
      "swimmer id 4058756\n",
      "swimmer name Reichert, Tara\n",
      "swimmer YOB 1981\n",
      "gender X\n",
      "race distance and stroke <td class=\"tc\"><span class=\"truncate\"><a data-query-gender=\"X\" data-query-style=\"Style-1\" data-result-type=\"ranking\" href=\"https://www.swimming.ca/en/meet/597428/?gender=X&amp;competition=Style-1\" itemprop=\"url\">50m Freestyle</a></span></td>\n",
      "race distance and stroke 50m Freestyle\n",
      "race round Final\n",
      "race time 30.27\n",
      "gender X\n",
      "race distance and stroke <td class=\"tc\"><span class=\"truncate\"><a data-query-gender=\"X\" data-query-style=\"Style-3\" data-result-type=\"ranking\" href=\"https://www.swimming.ca/en/meet/597428/?gender=X&amp;competition=Style-3\" itemprop=\"url\">200m Freestyle</a></span></td>\n",
      "race distance and stroke 200m Freestyle\n",
      "race round Final\n",
      "race time 2:39.66\n",
      "gender X\n",
      "race distance and stroke <td class=\"tc\"><span class=\"truncate\"><a data-query-gender=\"X\" data-query-style=\"Style-9\" data-result-type=\"ranking\" href=\"https://www.swimming.ca/en/meet/597428/?gender=X&amp;competition=Style-9\" itemprop=\"url\">50m Backstroke</a></span></td>\n",
      "race distance and stroke 50m Backstroke\n",
      "race round Final\n",
      "race time 33.67\n",
      "gender X\n",
      "race distance and stroke <td class=\"tc\"><span class=\"truncate\"><a data-query-gender=\"X\" data-query-style=\"Style-20\" data-result-type=\"ranking\" href=\"https://www.swimming.ca/en/meet/597428/?gender=X&amp;competition=Style-20\" itemprop=\"url\">100m Medley</a></span></td>\n",
      "race distance and stroke 100m Medley\n",
      "race round Final\n",
      "race time 1:14.62\n",
      "row count 22 length of info 1 contents <tr class=\"row-heading\"><th class=\"tl tc\" colspan=\"6\"><a href=\"https://www.swimming.ca/en/swimmer/4904609/\">Thompson, Sacha</a> — 1976</th></tr>\n",
      "swimmer url https://www.swimming.ca/en/swimmer/4904609/\n",
      "swimmer id 4904609\n",
      "swimmer name Thompson, Sacha\n",
      "swimmer YOB 1976\n",
      "gender X\n",
      "race distance and stroke <td class=\"tc\"><span class=\"truncate\"><a data-query-gender=\"X\" data-query-style=\"Style-1\" data-result-type=\"ranking\" href=\"https://www.swimming.ca/en/meet/597428/?gender=X&amp;competition=Style-1\" itemprop=\"url\">50m Freestyle</a></span></td>\n",
      "race distance and stroke 50m Freestyle\n",
      "race round Final\n",
      "race time 33.22\n",
      "gender X\n",
      "race distance and stroke <td class=\"tc\"><span class=\"truncate\"><a data-query-gender=\"X\" data-query-style=\"Style-3\" data-result-type=\"ranking\" href=\"https://www.swimming.ca/en/meet/597428/?gender=X&amp;competition=Style-3\" itemprop=\"url\">200m Freestyle</a></span></td>\n",
      "race distance and stroke 200m Freestyle\n",
      "race round Final\n",
      "race time 2:34.23\n",
      "gender X\n",
      "race distance and stroke <td class=\"tc\"><span class=\"truncate\"><a data-query-gender=\"X\" data-query-style=\"Style-15\" data-result-type=\"ranking\" href=\"https://www.swimming.ca/en/meet/597428/?gender=X&amp;competition=Style-15\" itemprop=\"url\">50m Butterfly</a></span></td>\n",
      "race distance and stroke 50m Butterfly\n",
      "race round Final\n",
      "race time 36.86\n",
      "gender X\n",
      "race distance and stroke <td class=\"tc\"><span class=\"truncate\"><a data-query-gender=\"X\" data-query-style=\"Style-20\" data-result-type=\"ranking\" href=\"https://www.swimming.ca/en/meet/597428/?gender=X&amp;competition=Style-20\" itemprop=\"url\">100m Medley</a></span></td>\n",
      "race distance and stroke 100m Medley\n",
      "race round Final\n",
      "race time 1:23.34\n",
      "row count 27 length of info 1 contents <tr class=\"row-heading\"><th class=\"tl tc\" colspan=\"6\"><a href=\"https://www.swimming.ca/en/swimmer/5157856/\">Turnbull, Caitlin</a> — 1981</th></tr>\n",
      "swimmer url https://www.swimming.ca/en/swimmer/5157856/\n",
      "swimmer id 5157856\n",
      "swimmer name Turnbull, Caitlin\n",
      "swimmer YOB 1981\n",
      "gender X\n",
      "race distance and stroke <td class=\"tc\"><span class=\"truncate\"><a data-query-gender=\"X\" data-query-style=\"Style-1\" data-result-type=\"ranking\" href=\"https://www.swimming.ca/en/meet/597428/?gender=X&amp;competition=Style-1\" itemprop=\"url\">50m Freestyle</a></span></td>\n",
      "race distance and stroke 50m Freestyle\n",
      "race round Final\n",
      "race time 33.50\n",
      "gender X\n",
      "race distance and stroke <td class=\"tc\"><span class=\"truncate\"><a data-query-gender=\"X\" data-query-style=\"Style-20\" data-result-type=\"ranking\" href=\"https://www.swimming.ca/en/meet/597428/?gender=X&amp;competition=Style-20\" itemprop=\"url\">100m Medley</a></span></td>\n",
      "race distance and stroke 100m Medley\n",
      "race round Final\n",
      "race time 1:25.91\n"
     ]
    }
   ],
   "source": [
    "getRaceResults(no_relay_pg)"
   ]
  },
  {
   "cell_type": "code",
   "execution_count": 22,
   "metadata": {},
   "outputs": [
    {
     "name": "stdout",
     "output_type": "stream",
     "text": [
      "0\n",
      "1\n",
      "2\n"
     ]
    }
   ],
   "source": [
    "for i in range(3):\n",
    "    print(i)"
   ]
  },
  {
   "cell_type": "code",
   "execution_count": null,
   "metadata": {},
   "outputs": [],
   "source": [
    "    #### Colleen start here, need to figure out the logic to loop through all 4 tables\n",
    "    ### and within the table, get the swimmer and race info and append them to the lists\n",
    "    ### and add the swimmer id and swimmer yob to race results\n",
    "    #\n",
    "    count = 0\n",
    "    swimmer_list = []\n",
    "    race_list = []\n",
    "    \n",
    "    for item in temp_table[0].find_all('tr'):\n",
    "        temp_sw_dict = {}\n",
    "        temp_rc_dict = {}\n",
    "        if item.has_attr('class'):\n",
    "            logging.debug(\"new swimmer!!\")\n",
    "            #print(\"row count\", count, \"length of info\", len(item), \"contents\", item)\n",
    "            #print(\"swimmer url\", item.find('a').attrs['href'])\n",
    "            #print(\"swimmer id\", item.find('a').attrs['href'].split('/')[5])\n",
    "            #print(\"swimmer name\", item.find('a').contents[0])\n",
    "            #print(\"swimmer YOB\", item.find('th').contents[1][3:7])\n",
    "            # need swim id for both the swimmer and the race dictionary\n",
    "            sw_id = item.find('a').attrs['href'].split('/')[5]\n",
    "            sw_yob = item.find('th').contents[1][3:7]\n",
    "            temp_sw_dict['sw_url'] = item.find('a').attrs['href']\n",
    "            temp_sw_dict['sw_id'] = sw_id\n",
    "            temp_sw_dict['sw_name'] = item.find('a').contents[0]\n",
    "            temp_sw_dict['sw_yob'] = sw_yob\n",
    "            swimmer_list.append(temp_sw_dict)\n",
    "        #print(count)\n",
    "        #if item.children[0].has_attr('class'):\n",
    "        #    print(\"race time and dist available\")\n",
    "        #    print(item.children[0])\n",
    "        elif count != 0:\n",
    "            #print(\"row count\", count, len(item.contents))\n",
    "            #for subItem in item:\n",
    "            #    print(len(subItem), subItem.string)\n",
    "            #print(\"gender\", item.contents[0].find('a').attrs['data-query-gender'])\n",
    "            #print(\"race distance and stroke\", item.contents[0])\n",
    "            #print(\"race distance and stroke\", item.contents[0].find('span').find('a').contents[0])\n",
    "            #print(\"race round\", item.contents[1].contents[0])\n",
    "            #print(\"race time\", item.contents[3].contents[0])\n",
    "            #get the gender for both swim and race dict\n",
    "            sw_gender = item.contents[0].find('a').attrs['data-query-gender']\n",
    "            temp_rc_dict['sw_id'] = sw_id\n",
    "            temp_rc_dict['sw_yob'] = sw_yob\n",
    "            temp_rc_dict['sw_gender'] = sw_gender\n",
    "            #temp_sw_dict['sw_gender'] = sw_gender\n",
    "            temp_rc_dict['rc_dist_stroke'] = item.contents[0].find('span').find('a').contents[0]\n",
    "            temp_rc_dict['rc_round'] = item.contents[1].contents[0]\n",
    "            temp_rc_dict['rc_time'] = item.contents[3].contents[0]\n",
    "            race_list.append(temp_rc_dict)\n",
    "        else:\n",
    "            print(\"row count\", count)\n",
    "\n",
    "        #append the temp dict to the lists\n",
    "        #swimmer_list.append(temp_sw_dict)\n",
    "        #race_list.append(temp_rc_dict)\n",
    "        count += 1\n",
    "        # just print out some to see the pattern\n",
    "        #if count == 11:\n",
    "        #    break\n",
    "        "
   ]
  },
  {
   "cell_type": "code",
   "execution_count": null,
   "metadata": {},
   "outputs": [],
   "source": []
  },
  {
   "cell_type": "markdown",
   "metadata": {},
   "source": [
    "## Assess - www.swimming.ca"
   ]
  },
  {
   "cell_type": "markdown",
   "metadata": {},
   "source": [
    "## Clean - www.swimming.ca"
   ]
  },
  {
   "cell_type": "markdown",
   "metadata": {},
   "source": [
    "# Development Code\n",
    "\n",
    "While creating the final functions, I used the following code to explore the webpages to set up the parsing correctly\n",
    "\n",
    "I don't want to loose it, but it should not be run"
   ]
  },
  {
   "cell_type": "markdown",
   "metadata": {},
   "source": [
    "### Explore Structure of html pages\n",
    "In order to recover the information of interest, the way the information is presented on the various html pages needs to be understood.\n",
    "\n",
    "Once I know how to capture the data of interest, I will create functions to iterate through diffferent seasons, months and meets.\n",
    "\n",
    "The information I am interested in can be grouped into 3 categories.\n",
    "\n",
    "**Swimmer Information**\n",
    "* sw_id_num - unique swimmer id number\n",
    "* sw_name - swimmers name\n",
    "* sw_yob - swimmers year of birth\n",
    "\n",
    "Note that swimmers age is determined by the age on Dec 31st of the year in which the competition happened.\n",
    "\n",
    "**Meet Information**\n",
    "\n",
    "* mt_id_num - unique meet id number\n",
    "* mt_name - meet name\n",
    "* mt_date - first day of meet\n",
    "* mt_duration - number of days the swim meet lasted\n",
    "* mt_pool_name - name of the pool\n",
    "* mt_pool_address - address of the pool\n",
    "* mt_sc_lc - indication if meet was a long course or short course meet\n",
    "\n",
    "**Race Information**\n",
    "* rc_dist - distance of race - eg 25m, 100m, 400m\n",
    "* rc_stroke - stroke of race - freestyle, backstroke, butterfly, breaststroke, IM\n",
    "* rc_time - time it took the swimmer to complete the distance\n",
    "* rc_round - heat, final, split of longer swim or part of relay\n",
    "* sw_id_num - unique swimmer id\n",
    "* mt_id_num - unique meet id\n",
    "\n",
    "I am also confident that at some point I will want club information, but at this point I'm not sure what I would do with it.\n",
    "\n",
    "I also have not decided the best way to store the information I scrape.  Initially, I will put it in 3 different csv's, but would like to explore a graph database.  I have not used them before and would like to learn."
   ]
  },
  {
   "cell_type": "code",
   "execution_count": null,
   "metadata": {},
   "outputs": [],
   "source": [
    "# start with the 2019/2020 season, noting that the season came to an abrupt end in March 2020 because of Covid19\n",
    "# using November since I know there is a masters meet in Nov 2019\n",
    "call_params = {'season':'20', 'province':'', 'month':'11'}\n",
    "#response=requests.get('https://www.swimming.ca/en/events-results/meet-results/', params={'season':'20', 'province':'', 'month':'11'})\n",
    "response=requests.get('https://www.swimming.ca/en/events-results/meet-results/', params=call_params)\n",
    "#sanity check that my parameter specification worked as expected\n",
    "response.url"
   ]
  },
  {
   "cell_type": "code",
   "execution_count": null,
   "metadata": {},
   "outputs": [],
   "source": [
    "#use Beautiful Soup to parse the returned page\n",
    "meetList_resp = BeautifulSoup(response.text, 'lxml')"
   ]
  },
  {
   "cell_type": "code",
   "execution_count": null,
   "metadata": {},
   "outputs": [],
   "source": [
    "meetList_resp.find_all('tr')"
   ]
  },
  {
   "cell_type": "code",
   "execution_count": null,
   "metadata": {},
   "outputs": [],
   "source": [
    "#find the masters swim meets in the response text\n",
    "meetList = []\n",
    "for item in meetList_resp.find_all('tr'):\n",
    "    if item.contents[5].contents[0] == \"Masters\":\n",
    "        temp_dict = {}\n",
    "        temp_dict['meet_date'] = item.contents[0].contents[0].contents[0]\n",
    "        temp_dict['meet_url'] = item.contents[1].a.attrs['href']\n",
    "        temp_dict['meet_prov'] = item.contents[2].contents[0]\n",
    "        temp_dict['meet_host'] = item.contents[3].contents[0].contents[0]\n",
    "        temp_dict['meet_course'] = item.contents[4].contents[0]\n",
    "        temp_dict['meet_type'] = item.contents[5].contents[0]\n",
    "        meetList.append(temp_dict)\n",
    "        ##used for debug/development\n",
    "        #print(item.contents[0].contents[0].contents[0])\n",
    "        #print(item.contents[1].a.attrs['href'])\n",
    "        #print(item.contents[2].contents[0])\n",
    "        #print(item.contents[3].contents[0].contents[0])\n",
    "        #print(item.contents[4].contents[0])\n",
    "        #print(item.contents[5].contents[0])\n",
    "print(\"number of masters meets\", len(meetList))"
   ]
  },
  {
   "cell_type": "code",
   "execution_count": null,
   "metadata": {},
   "outputs": [],
   "source": [
    "meetList[0]"
   ]
  },
  {
   "cell_type": "markdown",
   "metadata": {},
   "source": [
    "So 8 masters meets were held in Canada in Nov 2019.\n",
    "\n",
    "Now use the meet_url to get the results for that meet.  The use Beautiful Soup to parse the returned page"
   ]
  },
  {
   "cell_type": "code",
   "execution_count": null,
   "metadata": {},
   "outputs": [],
   "source": [
    "r2_url = meetList[0]['meet_url']\n",
    "r2 = requests.get(r2_url)\n",
    "temp_r2 = BeautifulSoup(r2.text, 'lxml')"
   ]
  },
  {
   "cell_type": "markdown",
   "metadata": {},
   "source": [
    "My next step was to create a list of clubs that participated. I looked through the html on the page and determined the information I was interested in was held in 'option' tags."
   ]
  },
  {
   "cell_type": "code",
   "execution_count": null,
   "metadata": {},
   "outputs": [],
   "source": [
    "clubList = []\n",
    "for item in temp_r2.find_all('option'):\n",
    "    #print(item.contents[0])\n",
    "    temp_dict = {}\n",
    "    if \"Events\" in item.contents[0]:\n",
    "        #print(item)\n",
    "        break\n",
    "    elif \"Participants\" not in item.contents[0]:\n",
    "        temp_dict['club_res_url'] = item.attrs['data-href']\n",
    "        temp_dict['club_number'] = item.attrs['value']\n",
    "        temp_dict['club_name'] = item.contents[0]\n",
    "        clubList.append(temp_dict)\n",
    "        ## used for dev/debug\n",
    "        #print(item.attrs['data-href'])\n",
    "        #print(item.attrs['value'])\n",
    "        #print(item.contents[0])\n",
    "        \n",
    "print(\"number of clubs in the meet\", len(clubList))\n",
    "print(\"information about each club\") \n",
    "clubList[0] "
   ]
  },
  {
   "cell_type": "markdown",
   "metadata": {},
   "source": [
    "The next step is to get the club results and retrieve the information about each swimmer"
   ]
  },
  {
   "cell_type": "code",
   "execution_count": null,
   "metadata": {},
   "outputs": [],
   "source": [
    "r3_url = clubList[0]['club_res_url']\n",
    "r3 = requests.get(r3_url)\n",
    "temp_r3 = BeautifulSoup(r3.text, 'lxml')"
   ]
  },
  {
   "cell_type": "markdown",
   "metadata": {},
   "source": [
    "After examining the HTML for the per club results page, the results of interest seem to be in the first 4 tables:\n",
    "* table 0 - men's results\n",
    "* table 1 - women's results\n",
    "* table 2 - relay results\n",
    "* table 3 - meet resource info"
   ]
  },
  {
   "cell_type": "code",
   "execution_count": null,
   "metadata": {},
   "outputs": [],
   "source": [
    "temp_table = temp_r3.find_all(\"table\")\n",
    "len(temp_table)"
   ]
  },
  {
   "cell_type": "code",
   "execution_count": null,
   "metadata": {},
   "outputs": [],
   "source": [
    "#look at the results for the men's table\n",
    "count = 0\n",
    "swimmer_list = []\n",
    "race_list = []\n",
    "for item in temp_table[0].find_all('tr'):\n",
    "    temp_sw_dict = {}\n",
    "    temp_rc_dict = {}\n",
    "    if item.has_attr('class'):\n",
    "        print(\"new swimmer!!\")\n",
    "        #print(\"row count\", count, \"length of info\", len(item), \"contents\", item)\n",
    "        #print(\"swimmer url\", item.find('a').attrs['href'])\n",
    "        #print(\"swimmer id\", item.find('a').attrs['href'].split('/')[5])\n",
    "        #print(\"swimmer name\", item.find('a').contents[0])\n",
    "        #print(\"swimmer YOB\", item.find('th').contents[1][3:7])\n",
    "        # need swim id for both the swimmer and the race dictionary\n",
    "        sw_id = item.find('a').attrs['href'].split('/')[5]\n",
    "        sw_yob = item.find('th').contents[1][3:7]\n",
    "        temp_sw_dict['sw_url'] = item.find('a').attrs['href']\n",
    "        temp_sw_dict['sw_id'] = sw_id\n",
    "        temp_sw_dict['sw_name'] = item.find('a').contents[0]\n",
    "        temp_sw_dict['sw_yob'] = sw_yob\n",
    "        swimmer_list.append(temp_sw_dict)\n",
    "    #print(count)\n",
    "    #if item.children[0].has_attr('class'):\n",
    "    #    print(\"race time and dist available\")\n",
    "    #    print(item.children[0])\n",
    "    elif count != 0:\n",
    "        #print(\"row count\", count, len(item.contents))\n",
    "        #for subItem in item:\n",
    "        #    print(len(subItem), subItem.string)\n",
    "        #print(\"gender\", item.contents[0].find('a').attrs['data-query-gender'])\n",
    "        #print(\"race distance and stroke\", item.contents[0])\n",
    "        #print(\"race distance and stroke\", item.contents[0].find('span').find('a').contents[0])\n",
    "        #print(\"race round\", item.contents[1].contents[0])\n",
    "        #print(\"race time\", item.contents[3].contents[0])\n",
    "        #get the gender for both swim and race dict\n",
    "        sw_gender = item.contents[0].find('a').attrs['data-query-gender']\n",
    "        temp_rc_dict['sw_id'] = sw_id\n",
    "        temp_rc_dict['sw_yob'] = sw_yob\n",
    "        temp_rc_dict['sw_gender'] = sw_gender\n",
    "        #temp_sw_dict['sw_gender'] = sw_gender\n",
    "        temp_rc_dict['rc_dist_stroke'] = item.contents[0].find('span').find('a').contents[0]\n",
    "        temp_rc_dict['rc_round'] = item.contents[1].contents[0]\n",
    "        temp_rc_dict['rc_time'] = item.contents[3].contents[0]\n",
    "        race_list.append(temp_rc_dict)\n",
    "    else:\n",
    "        print(\"row count\", count)\n",
    "    \n",
    "    #append the temp dict to the lists\n",
    "    #swimmer_list.append(temp_sw_dict)\n",
    "    #race_list.append(temp_rc_dict)\n",
    "    count += 1\n",
    "    # just print out some to see the pattern\n",
    "    #if count == 11:\n",
    "    #    break"
   ]
  },
  {
   "cell_type": "code",
   "execution_count": null,
   "metadata": {},
   "outputs": [],
   "source": [
    "swimmer_list"
   ]
  },
  {
   "cell_type": "code",
   "execution_count": null,
   "metadata": {},
   "outputs": [],
   "source": [
    "race_list"
   ]
  }
 ],
 "metadata": {
  "kernelspec": {
   "display_name": "Python 3",
   "language": "python",
   "name": "python3"
  },
  "language_info": {
   "codemirror_mode": {
    "name": "ipython",
    "version": 3
   },
   "file_extension": ".py",
   "mimetype": "text/x-python",
   "name": "python",
   "nbconvert_exporter": "python",
   "pygments_lexer": "ipython3",
   "version": "3.6.9"
  }
 },
 "nbformat": 4,
 "nbformat_minor": 4
}
