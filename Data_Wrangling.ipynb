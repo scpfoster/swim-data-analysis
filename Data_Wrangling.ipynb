{
 "cells": [
  {
   "cell_type": "markdown",
   "metadata": {},
   "source": [
    "# About this Notebook\n",
    "\n",
    "Data Wrangling can be defined as the process to:\n",
    "* gather\n",
    "* assess\n",
    "* clean\n",
    "data in support of data analytics tasks.\n",
    "\n",
    "This notebook contains the code to extract data related to Master Swim Performances and save it in a local format that supports Data Exploration activities.\n",
    "\n",
    "## Supported Data Sources\n",
    "\n",
    "Currently data is only extracted from the Canadian swimming site that collects the results for Masters Swimmers."
   ]
  },
  {
   "cell_type": "code",
   "execution_count": null,
   "metadata": {},
   "outputs": [],
   "source": [
    "import requests\n",
    "import lxml.html as lh\n",
    "from bs4 import BeautifulSoup\n",
    "import numpy as np\n",
    "import pandas as pd"
   ]
  },
  {
   "cell_type": "markdown",
   "metadata": {},
   "source": [
    "# Canadian Master Swimming Results Collection \n",
    "\n",
    "Starting with the information I know how to access from personal experience."
   ]
  },
  {
   "cell_type": "markdown",
   "metadata": {},
   "source": [
    "## Gather - www.swimming.ca\n",
    "The following code will scrape the available data from the www.swimming.ca website for Masters Swimmers. The code is based on the website structure that exists during the time period Aug - Oct 2020.\n",
    "\n",
    "The website has a layered approach to finding results.\n",
    "1. Navigate to the page that has a list of meet-results\n",
    "2. Filter the list of meet results by **Season**, **Province**, **Month**\n",
    "3. Select the meet of interest in the filtered list\n",
    "4. At this point it is possible to see all the results for each club that participated, or the results by event.  I will be collecting all the results by participating club.\n",
    "\n",
    "I did contact Swim Canada to see if there was an API that would allow me to use an approach other than web scraping to get the results, but so far they have not been able to support my request.\n",
    "\n",
    "For the parameters **Seasion**, **Province** and **Month**, there are few points to note:\n",
    "* Season - the swim season in Canada is split over 2 calendar years and runs Sep to Aug.  So the swim season 2019/2020 will be the period 1 Sep 2019 to 31 Aug 2020.  The value passed to the **Season** parameter is the last 2 numbers in the second part of the season identifier.  So to access swim meets from Nov 2019, the season parameter will be 20 ('season'='20')\n",
    "* Month - the month must be specified as a number from 1 to 12.  It is not possible to have all the months in a single season being available at one time\n",
    "* Province - It is possible to filter by province/territory or use all provinces. To access an individual province/territory, the provinces/territories are numbered from 1 to 11 in alphabetical order.  So to get only Alberta, 'province'='1' and to get Yukon, 'province'='11'.  The supported Territories are Northwest Territories and Yukon.  For all provinces, no number is provided to province (province = '')\n",
    "\n",
    "Since I am only interested in Masters results, when looking at the meet list, I will look for MEET TYPE  of Masters.  This will miss some swimmers that compete in non-Masters meets as an Open Master.  I plan to come back and find these results after collecting the Masters Meets\n",
    "\n",
    "The only URL specified in my code is the URL associated with step 1 above, navigating to the meet-results page.  The subsequent URLs will be recovered from the information available when the various filters are applied."
   ]
  },
  {
   "cell_type": "code",
   "execution_count": null,
   "metadata": {},
   "outputs": [],
   "source": [
    "# URLs of interest\n",
    "url_meetlist ='https://www.swimming.ca/en/events-results/meet-results/'"
   ]
  },
  {
   "cell_type": "code",
   "execution_count": null,
   "metadata": {},
   "outputs": [],
   "source": [
    "# start with the 2019/2020 season, noting that the season came to an abrupt end in March 2020 because of Covid19\n",
    "# using November since I know there is a masters meet in Nov 2019\n",
    "response=requests.get('https://www.swimming.ca/en/events-results/meet-results/', params={'season':'20', 'province':'', 'month':'11'})\n",
    "#sanity check that my parameter specification worked as expected\n",
    "response.url"
   ]
  },
  {
   "cell_type": "code",
   "execution_count": null,
   "metadata": {},
   "outputs": [],
   "source": [
    "#use Beautiful Soup to parse the returned page\n",
    "meetList_resp = BeautifulSoup(response.text, 'lxml')"
   ]
  },
  {
   "cell_type": "code",
   "execution_count": null,
   "metadata": {},
   "outputs": [],
   "source": [
    "#find the masters swim meets in the response text\n",
    "meetList = []\n",
    "for item in meetList_resp.find_all('tr'):\n",
    "    if item.contents[5].contents[0] == \"Masters\":\n",
    "        temp_dict = {}\n",
    "        temp_dict['meet_date'] = item.contents[0].contents[0].contents[0]\n",
    "        temp_dict['meet_url'] = item.contents[1].a.attrs['href']\n",
    "        temp_dict['meet_prov'] = item.contents[2].contents[0]\n",
    "        temp_dict['meet_host'] = item.contents[3].contents[0].contents[0]\n",
    "        temp_dict['meet_course'] = item.contents[4].contents[0]\n",
    "        temp_dict['meet_type'] = item.contents[5].contents[0]\n",
    "        meetList.append(temp_dict)\n",
    "        ##used for debug/development\n",
    "        #print(item.contents[0].contents[0].contents[0])\n",
    "        #print(item.contents[1].a.attrs['href'])\n",
    "        #print(item.contents[2].contents[0])\n",
    "        #print(item.contents[3].contents[0].contents[0])\n",
    "        #print(item.contents[4].contents[0])\n",
    "        #print(item.contents[5].contents[0])\n",
    "print(\"number of masters meets\", len(meetList))"
   ]
  },
  {
   "cell_type": "markdown",
   "metadata": {},
   "source": [
    "So 8 masters meets were held in Canada in Nov 2019.\n",
    "\n",
    "Now use the meet_url to get the results for that meet.  The use Beautiful Soup to parse the returned page"
   ]
  },
  {
   "cell_type": "code",
   "execution_count": null,
   "metadata": {},
   "outputs": [],
   "source": [
    "r2_url = meetList[0]['meet_url']\n",
    "r2 = requests.get(r2_url)\n",
    "temp_r2 = BeautifulSoup(r2.text, 'lxml')"
   ]
  },
  {
   "cell_type": "markdown",
   "metadata": {},
   "source": [
    "My next step was to create a list of clubs that participated. I looked through the html on the page and determined the information I was interested in was held in 'option' tags."
   ]
  },
  {
   "cell_type": "code",
   "execution_count": null,
   "metadata": {},
   "outputs": [],
   "source": [
    "clubList = []\n",
    "for item in temp_r2.find_all('option'):\n",
    "    #print(item.contents[0])\n",
    "    temp_dict = {}\n",
    "    if \"Events\" in item.contents[0]:\n",
    "        #print(item)\n",
    "        break\n",
    "    elif \"Participants\" not in item.contents[0]:\n",
    "        temp_dict['club_res_url'] = item.attrs['data-href']\n",
    "        temp_dict['club_number'] = item.attrs['value']\n",
    "        temp_dict['club_name'] = item.contents[0]\n",
    "        clubList.append(temp_dict)\n",
    "        ## used for dev/debug\n",
    "        #print(item.attrs['data-href'])\n",
    "        #print(item.attrs['value'])\n",
    "        #print(item.contents[0])\n",
    "        \n",
    "print(\"number of clubs in the meet\", len(clubList))\n",
    "print(\"infomration about each club\") \n",
    "clubList[0] "
   ]
  },
  {
   "cell_type": "markdown",
   "metadata": {},
   "source": [
    "The next step is to get the club results and retrieve the information about each swimmer"
   ]
  },
  {
   "cell_type": "code",
   "execution_count": null,
   "metadata": {},
   "outputs": [],
   "source": [
    "r3_url = clubList[0]['club_res_url']\n",
    "r3 = requests.get(r3_url)\n",
    "temp_r3 = BeautifulSoup(r3.text, 'lxml')"
   ]
  },
  {
   "cell_type": "markdown",
   "metadata": {},
   "source": [
    "After examining the HTML for the per club results page, the results of interest seem to be in 4 tables:\n",
    "* table 0 - men's results\n",
    "* table 1 - women's results\n",
    "* table 2 - relay results\n",
    "* table 3 - meet resource info"
   ]
  },
  {
   "cell_type": "code",
   "execution_count": null,
   "metadata": {},
   "outputs": [],
   "source": [
    "temp_table = temp_r3.find_all(\"table\")\n",
    "len(temp_table)"
   ]
  },
  {
   "cell_type": "code",
   "execution_count": null,
   "metadata": {},
   "outputs": [],
   "source": [
    "#look at the results for the men's table\n",
    "count = 0\n",
    "for item in temp_table[0].find_all('tr'):\n",
    "    if item.has_attr('class'):\n",
    "        print(\"row count\", count, \" \", item)\n",
    "        print(\"new swimmer!!\")\n",
    "    #print(count)\n",
    "    #if item.children[0].has_attr('class'):\n",
    "    #    print(\"race time and dist available\")\n",
    "    #    print(item.children[0])\n",
    "    elif count != 0:\n",
    "        print(\"row count\", count, len(item.contents))\n",
    "        for subItem in item:\n",
    "            print(len(subItem), subItem.string)\n",
    "    else:\n",
    "        print(\"row count\", count)\n",
    "    count += 1\n",
    "    \n",
    "    if count == 11:\n",
    "        break"
   ]
  },
  {
   "cell_type": "markdown",
   "metadata": {},
   "source": [
    "## Assess - www.swimming.ca"
   ]
  },
  {
   "cell_type": "markdown",
   "metadata": {},
   "source": [
    "## Clean - www.swimming.ca"
   ]
  },
  {
   "cell_type": "code",
   "execution_count": null,
   "metadata": {},
   "outputs": [],
   "source": []
  }
 ],
 "metadata": {
  "kernelspec": {
   "display_name": "Python 3",
   "language": "python",
   "name": "python3"
  },
  "language_info": {
   "codemirror_mode": {
    "name": "ipython",
    "version": 3
   },
   "file_extension": ".py",
   "mimetype": "text/x-python",
   "name": "python",
   "nbconvert_exporter": "python",
   "pygments_lexer": "ipython3",
   "version": "3.6.9"
  }
 },
 "nbformat": 4,
 "nbformat_minor": 4
}
